{
 "cells": [
  {
   "cell_type": "markdown",
   "metadata": {},
   "source": [
    "## Final Project Submission\n",
    "\n",
    "Please fill out:\n",
    "* Student name: \n",
    "* Student pace: self paced / part time / full time\n",
    "* Scheduled project review date/time: \n",
    "* Instructor name: \n",
    "* Blog post URL:\n"
   ]
  },
  {
   "cell_type": "markdown",
   "metadata": {},
   "source": [
    "## ANALYSIS FOR MICROSOFT'S SUCCESS ON NEW MOVIE STUDIO"
   ]
  },
  {
   "cell_type": "markdown",
   "metadata": {},
   "source": [
    "## Business Problem"
   ]
  },
  {
   "cell_type": "markdown",
   "metadata": {},
   "source": [
    "Microsoft sees all the big companies creating original video content and they want to get in on the fun. They have decided to create a new movie studio, but they don’t know anything about creating movies. You are charged with exploring what types of films are currently doing the best at the box office. You must then translate those findings into actionable insights that the head of Microsoft's new movie studio can use to help decide what type of films to create."
   ]
  },
  {
   "cell_type": "markdown",
   "metadata": {},
   "source": [
    "## Project Overview"
   ]
  },
  {
   "cell_type": "markdown",
   "metadata": {},
   "source": [
    "In the fast evolving entertainment industry, Microsoft desires to venture into original video content production so as to diversify its portfolio. For Microsoft to embark on this journey, it needs to understand the dynamics of the movie industry, and the films that are currently doing well in the box office. This project seeks to help Microsoft make informed decisions on what movies to create and provide insights into the movie market."
   ]
  },
  {
   "cell_type": "markdown",
   "metadata": {},
   "source": [
    "## Objectives of the Study"
   ]
  },
  {
   "cell_type": "markdown",
   "metadata": {},
   "source": [
    "To identify what type of films do well in the domestic  market\n",
    "\n",
    "To identify what type of films do well in the foreign  market\n",
    "\n",
    "To identify most popular movie based on rating\n",
    "\n",
    "To analyse the effect of rating on revenue\n",
    "\n",
    "To analyse the effect runtime on movie success"
   ]
  },
  {
   "cell_type": "markdown",
   "metadata": {},
   "source": [
    "## Data Understanding"
   ]
  },
  {
   "cell_type": "markdown",
   "metadata": {},
   "source": [
    "The analysis used data from IMDB data base which are in the folder IMDB Data and in csv file format.The data files include 'bom.movie_gross.csv', 'title.basics.csv' and 'title.ratings.csv'. To proceed with data analysis, we first have to understand our datasets, what is in them and the data quality"
   ]
  },
  {
   "cell_type": "code",
   "execution_count": 2,
   "metadata": {},
   "outputs": [],
   "source": [
    "#import the necessary libraries\n",
    "import pandas as pd\n",
    "import numpy as np\n",
    "import seaborn as sns\n",
    "import matplotlib.pyplot as plt\n",
    "%matplotlib inline"
   ]
  },
  {
   "cell_type": "code",
   "execution_count": 3,
   "metadata": {},
   "outputs": [
    {
     "data": {
      "text/html": [
       "<div>\n",
       "<style scoped>\n",
       "    .dataframe tbody tr th:only-of-type {\n",
       "        vertical-align: middle;\n",
       "    }\n",
       "\n",
       "    .dataframe tbody tr th {\n",
       "        vertical-align: top;\n",
       "    }\n",
       "\n",
       "    .dataframe thead th {\n",
       "        text-align: right;\n",
       "    }\n",
       "</style>\n",
       "<table border=\"1\" class=\"dataframe\">\n",
       "  <thead>\n",
       "    <tr style=\"text-align: right;\">\n",
       "      <th></th>\n",
       "      <th>title</th>\n",
       "      <th>studio</th>\n",
       "      <th>domestic_gross</th>\n",
       "      <th>foreign_gross</th>\n",
       "      <th>year</th>\n",
       "    </tr>\n",
       "  </thead>\n",
       "  <tbody>\n",
       "    <tr>\n",
       "      <th>0</th>\n",
       "      <td>Toy Story 3</td>\n",
       "      <td>BV</td>\n",
       "      <td>415000000.0</td>\n",
       "      <td>652000000</td>\n",
       "      <td>2010</td>\n",
       "    </tr>\n",
       "    <tr>\n",
       "      <th>1</th>\n",
       "      <td>Alice in Wonderland (2010)</td>\n",
       "      <td>BV</td>\n",
       "      <td>334200000.0</td>\n",
       "      <td>691300000</td>\n",
       "      <td>2010</td>\n",
       "    </tr>\n",
       "    <tr>\n",
       "      <th>2</th>\n",
       "      <td>Harry Potter and the Deathly Hallows Part 1</td>\n",
       "      <td>WB</td>\n",
       "      <td>296000000.0</td>\n",
       "      <td>664300000</td>\n",
       "      <td>2010</td>\n",
       "    </tr>\n",
       "    <tr>\n",
       "      <th>3</th>\n",
       "      <td>Inception</td>\n",
       "      <td>WB</td>\n",
       "      <td>292600000.0</td>\n",
       "      <td>535700000</td>\n",
       "      <td>2010</td>\n",
       "    </tr>\n",
       "    <tr>\n",
       "      <th>4</th>\n",
       "      <td>Shrek Forever After</td>\n",
       "      <td>P/DW</td>\n",
       "      <td>238700000.0</td>\n",
       "      <td>513900000</td>\n",
       "      <td>2010</td>\n",
       "    </tr>\n",
       "  </tbody>\n",
       "</table>\n",
       "</div>"
      ],
      "text/plain": [
       "                                         title studio  domestic_gross  \\\n",
       "0                                  Toy Story 3     BV     415000000.0   \n",
       "1                   Alice in Wonderland (2010)     BV     334200000.0   \n",
       "2  Harry Potter and the Deathly Hallows Part 1     WB     296000000.0   \n",
       "3                                    Inception     WB     292600000.0   \n",
       "4                          Shrek Forever After   P/DW     238700000.0   \n",
       "\n",
       "  foreign_gross  year  \n",
       "0     652000000  2010  \n",
       "1     691300000  2010  \n",
       "2     664300000  2010  \n",
       "3     535700000  2010  \n",
       "4     513900000  2010  "
      ]
     },
     "execution_count": 3,
     "metadata": {},
     "output_type": "execute_result"
    }
   ],
   "source": [
    "#first we will import the  'bom.movie_gross.csv' and name it df1 dataset and check the first five \n",
    "df1= pd.read_csv('./IMDB Data/bom.movie_gross.csv')\n",
    "df1.head()"
   ]
  },
  {
   "cell_type": "code",
   "execution_count": 4,
   "metadata": {},
   "outputs": [
    {
     "data": {
      "text/html": [
       "<div>\n",
       "<style scoped>\n",
       "    .dataframe tbody tr th:only-of-type {\n",
       "        vertical-align: middle;\n",
       "    }\n",
       "\n",
       "    .dataframe tbody tr th {\n",
       "        vertical-align: top;\n",
       "    }\n",
       "\n",
       "    .dataframe thead th {\n",
       "        text-align: right;\n",
       "    }\n",
       "</style>\n",
       "<table border=\"1\" class=\"dataframe\">\n",
       "  <thead>\n",
       "    <tr style=\"text-align: right;\">\n",
       "      <th></th>\n",
       "      <th>tconst</th>\n",
       "      <th>primary_title</th>\n",
       "      <th>original_title</th>\n",
       "      <th>start_year</th>\n",
       "      <th>runtime_minutes</th>\n",
       "      <th>genres</th>\n",
       "    </tr>\n",
       "  </thead>\n",
       "  <tbody>\n",
       "    <tr>\n",
       "      <th>0</th>\n",
       "      <td>tt0063540</td>\n",
       "      <td>Sunghursh</td>\n",
       "      <td>Sunghursh</td>\n",
       "      <td>2013</td>\n",
       "      <td>175.0</td>\n",
       "      <td>Action,Crime,Drama</td>\n",
       "    </tr>\n",
       "    <tr>\n",
       "      <th>1</th>\n",
       "      <td>tt0066787</td>\n",
       "      <td>One Day Before the Rainy Season</td>\n",
       "      <td>Ashad Ka Ek Din</td>\n",
       "      <td>2019</td>\n",
       "      <td>114.0</td>\n",
       "      <td>Biography,Drama</td>\n",
       "    </tr>\n",
       "    <tr>\n",
       "      <th>2</th>\n",
       "      <td>tt0069049</td>\n",
       "      <td>The Other Side of the Wind</td>\n",
       "      <td>The Other Side of the Wind</td>\n",
       "      <td>2018</td>\n",
       "      <td>122.0</td>\n",
       "      <td>Drama</td>\n",
       "    </tr>\n",
       "    <tr>\n",
       "      <th>3</th>\n",
       "      <td>tt0069204</td>\n",
       "      <td>Sabse Bada Sukh</td>\n",
       "      <td>Sabse Bada Sukh</td>\n",
       "      <td>2018</td>\n",
       "      <td>NaN</td>\n",
       "      <td>Comedy,Drama</td>\n",
       "    </tr>\n",
       "    <tr>\n",
       "      <th>4</th>\n",
       "      <td>tt0100275</td>\n",
       "      <td>The Wandering Soap Opera</td>\n",
       "      <td>La Telenovela Errante</td>\n",
       "      <td>2017</td>\n",
       "      <td>80.0</td>\n",
       "      <td>Comedy,Drama,Fantasy</td>\n",
       "    </tr>\n",
       "  </tbody>\n",
       "</table>\n",
       "</div>"
      ],
      "text/plain": [
       "      tconst                    primary_title              original_title  \\\n",
       "0  tt0063540                        Sunghursh                   Sunghursh   \n",
       "1  tt0066787  One Day Before the Rainy Season             Ashad Ka Ek Din   \n",
       "2  tt0069049       The Other Side of the Wind  The Other Side of the Wind   \n",
       "3  tt0069204                  Sabse Bada Sukh             Sabse Bada Sukh   \n",
       "4  tt0100275         The Wandering Soap Opera       La Telenovela Errante   \n",
       "\n",
       "   start_year  runtime_minutes                genres  \n",
       "0        2013            175.0    Action,Crime,Drama  \n",
       "1        2019            114.0       Biography,Drama  \n",
       "2        2018            122.0                 Drama  \n",
       "3        2018              NaN          Comedy,Drama  \n",
       "4        2017             80.0  Comedy,Drama,Fantasy  "
      ]
     },
     "execution_count": 4,
     "metadata": {},
     "output_type": "execute_result"
    }
   ],
   "source": [
    "#import the second dataset 'title.basics.csv' and name it df2 and check first five\n",
    "df2= pd.read_csv('./IMDB Data/title.basics.csv')\n",
    "df2.head()"
   ]
  },
  {
   "cell_type": "code",
   "execution_count": 5,
   "metadata": {},
   "outputs": [
    {
     "data": {
      "text/html": [
       "<div>\n",
       "<style scoped>\n",
       "    .dataframe tbody tr th:only-of-type {\n",
       "        vertical-align: middle;\n",
       "    }\n",
       "\n",
       "    .dataframe tbody tr th {\n",
       "        vertical-align: top;\n",
       "    }\n",
       "\n",
       "    .dataframe thead th {\n",
       "        text-align: right;\n",
       "    }\n",
       "</style>\n",
       "<table border=\"1\" class=\"dataframe\">\n",
       "  <thead>\n",
       "    <tr style=\"text-align: right;\">\n",
       "      <th></th>\n",
       "      <th>tconst</th>\n",
       "      <th>averagerating</th>\n",
       "      <th>numvotes</th>\n",
       "    </tr>\n",
       "  </thead>\n",
       "  <tbody>\n",
       "    <tr>\n",
       "      <th>0</th>\n",
       "      <td>tt10356526</td>\n",
       "      <td>8.3</td>\n",
       "      <td>31</td>\n",
       "    </tr>\n",
       "    <tr>\n",
       "      <th>1</th>\n",
       "      <td>tt10384606</td>\n",
       "      <td>8.9</td>\n",
       "      <td>559</td>\n",
       "    </tr>\n",
       "    <tr>\n",
       "      <th>2</th>\n",
       "      <td>tt1042974</td>\n",
       "      <td>6.4</td>\n",
       "      <td>20</td>\n",
       "    </tr>\n",
       "    <tr>\n",
       "      <th>3</th>\n",
       "      <td>tt1043726</td>\n",
       "      <td>4.2</td>\n",
       "      <td>50352</td>\n",
       "    </tr>\n",
       "    <tr>\n",
       "      <th>4</th>\n",
       "      <td>tt1060240</td>\n",
       "      <td>6.5</td>\n",
       "      <td>21</td>\n",
       "    </tr>\n",
       "  </tbody>\n",
       "</table>\n",
       "</div>"
      ],
      "text/plain": [
       "       tconst  averagerating  numvotes\n",
       "0  tt10356526            8.3        31\n",
       "1  tt10384606            8.9       559\n",
       "2   tt1042974            6.4        20\n",
       "3   tt1043726            4.2     50352\n",
       "4   tt1060240            6.5        21"
      ]
     },
     "execution_count": 5,
     "metadata": {},
     "output_type": "execute_result"
    }
   ],
   "source": [
    "# import the third dataset 'title.ratings.csv' and name if df3 and check first five\n",
    "df3= pd.read_csv('./IMDB Data/title.ratings.csv')\n",
    "df3.head()"
   ]
  },
  {
   "cell_type": "markdown",
   "metadata": {},
   "source": [
    "## Merging the three datasets as one"
   ]
  },
  {
   "cell_type": "markdown",
   "metadata": {},
   "source": [
    "We can merge df1,df2 and df3 as one to make the work more clean. We have a common key in df2 and df3 (tconst). We can merge the two on tconst key.Then merge the outcome to df1 on 'title'"
   ]
  },
  {
   "cell_type": "code",
   "execution_count": 6,
   "metadata": {},
   "outputs": [
    {
     "data": {
      "text/html": [
       "<div>\n",
       "<style scoped>\n",
       "    .dataframe tbody tr th:only-of-type {\n",
       "        vertical-align: middle;\n",
       "    }\n",
       "\n",
       "    .dataframe tbody tr th {\n",
       "        vertical-align: top;\n",
       "    }\n",
       "\n",
       "    .dataframe thead th {\n",
       "        text-align: right;\n",
       "    }\n",
       "</style>\n",
       "<table border=\"1\" class=\"dataframe\">\n",
       "  <thead>\n",
       "    <tr style=\"text-align: right;\">\n",
       "      <th></th>\n",
       "      <th>tconst</th>\n",
       "      <th>primary_title</th>\n",
       "      <th>original_title</th>\n",
       "      <th>start_year</th>\n",
       "      <th>runtime_minutes</th>\n",
       "      <th>genres</th>\n",
       "      <th>averagerating</th>\n",
       "      <th>numvotes</th>\n",
       "    </tr>\n",
       "  </thead>\n",
       "  <tbody>\n",
       "    <tr>\n",
       "      <th>0</th>\n",
       "      <td>tt0063540</td>\n",
       "      <td>Sunghursh</td>\n",
       "      <td>Sunghursh</td>\n",
       "      <td>2013</td>\n",
       "      <td>175.0</td>\n",
       "      <td>Action,Crime,Drama</td>\n",
       "      <td>7.0</td>\n",
       "      <td>77</td>\n",
       "    </tr>\n",
       "    <tr>\n",
       "      <th>1</th>\n",
       "      <td>tt0066787</td>\n",
       "      <td>One Day Before the Rainy Season</td>\n",
       "      <td>Ashad Ka Ek Din</td>\n",
       "      <td>2019</td>\n",
       "      <td>114.0</td>\n",
       "      <td>Biography,Drama</td>\n",
       "      <td>7.2</td>\n",
       "      <td>43</td>\n",
       "    </tr>\n",
       "    <tr>\n",
       "      <th>2</th>\n",
       "      <td>tt0069049</td>\n",
       "      <td>The Other Side of the Wind</td>\n",
       "      <td>The Other Side of the Wind</td>\n",
       "      <td>2018</td>\n",
       "      <td>122.0</td>\n",
       "      <td>Drama</td>\n",
       "      <td>6.9</td>\n",
       "      <td>4517</td>\n",
       "    </tr>\n",
       "    <tr>\n",
       "      <th>3</th>\n",
       "      <td>tt0069204</td>\n",
       "      <td>Sabse Bada Sukh</td>\n",
       "      <td>Sabse Bada Sukh</td>\n",
       "      <td>2018</td>\n",
       "      <td>NaN</td>\n",
       "      <td>Comedy,Drama</td>\n",
       "      <td>6.1</td>\n",
       "      <td>13</td>\n",
       "    </tr>\n",
       "    <tr>\n",
       "      <th>4</th>\n",
       "      <td>tt0100275</td>\n",
       "      <td>The Wandering Soap Opera</td>\n",
       "      <td>La Telenovela Errante</td>\n",
       "      <td>2017</td>\n",
       "      <td>80.0</td>\n",
       "      <td>Comedy,Drama,Fantasy</td>\n",
       "      <td>6.5</td>\n",
       "      <td>119</td>\n",
       "    </tr>\n",
       "    <tr>\n",
       "      <th>...</th>\n",
       "      <td>...</td>\n",
       "      <td>...</td>\n",
       "      <td>...</td>\n",
       "      <td>...</td>\n",
       "      <td>...</td>\n",
       "      <td>...</td>\n",
       "      <td>...</td>\n",
       "      <td>...</td>\n",
       "    </tr>\n",
       "    <tr>\n",
       "      <th>73851</th>\n",
       "      <td>tt9913084</td>\n",
       "      <td>Diabolik sono io</td>\n",
       "      <td>Diabolik sono io</td>\n",
       "      <td>2019</td>\n",
       "      <td>75.0</td>\n",
       "      <td>Documentary</td>\n",
       "      <td>6.2</td>\n",
       "      <td>6</td>\n",
       "    </tr>\n",
       "    <tr>\n",
       "      <th>73852</th>\n",
       "      <td>tt9914286</td>\n",
       "      <td>Sokagin Çocuklari</td>\n",
       "      <td>Sokagin Çocuklari</td>\n",
       "      <td>2019</td>\n",
       "      <td>98.0</td>\n",
       "      <td>Drama,Family</td>\n",
       "      <td>8.7</td>\n",
       "      <td>136</td>\n",
       "    </tr>\n",
       "    <tr>\n",
       "      <th>73853</th>\n",
       "      <td>tt9914642</td>\n",
       "      <td>Albatross</td>\n",
       "      <td>Albatross</td>\n",
       "      <td>2017</td>\n",
       "      <td>NaN</td>\n",
       "      <td>Documentary</td>\n",
       "      <td>8.5</td>\n",
       "      <td>8</td>\n",
       "    </tr>\n",
       "    <tr>\n",
       "      <th>73854</th>\n",
       "      <td>tt9914942</td>\n",
       "      <td>La vida sense la Sara Amat</td>\n",
       "      <td>La vida sense la Sara Amat</td>\n",
       "      <td>2019</td>\n",
       "      <td>NaN</td>\n",
       "      <td>NaN</td>\n",
       "      <td>6.6</td>\n",
       "      <td>5</td>\n",
       "    </tr>\n",
       "    <tr>\n",
       "      <th>73855</th>\n",
       "      <td>tt9916160</td>\n",
       "      <td>Drømmeland</td>\n",
       "      <td>Drømmeland</td>\n",
       "      <td>2019</td>\n",
       "      <td>72.0</td>\n",
       "      <td>Documentary</td>\n",
       "      <td>6.5</td>\n",
       "      <td>11</td>\n",
       "    </tr>\n",
       "  </tbody>\n",
       "</table>\n",
       "<p>73856 rows × 8 columns</p>\n",
       "</div>"
      ],
      "text/plain": [
       "          tconst                    primary_title              original_title  \\\n",
       "0      tt0063540                        Sunghursh                   Sunghursh   \n",
       "1      tt0066787  One Day Before the Rainy Season             Ashad Ka Ek Din   \n",
       "2      tt0069049       The Other Side of the Wind  The Other Side of the Wind   \n",
       "3      tt0069204                  Sabse Bada Sukh             Sabse Bada Sukh   \n",
       "4      tt0100275         The Wandering Soap Opera       La Telenovela Errante   \n",
       "...          ...                              ...                         ...   \n",
       "73851  tt9913084                 Diabolik sono io            Diabolik sono io   \n",
       "73852  tt9914286                Sokagin Çocuklari           Sokagin Çocuklari   \n",
       "73853  tt9914642                        Albatross                   Albatross   \n",
       "73854  tt9914942       La vida sense la Sara Amat  La vida sense la Sara Amat   \n",
       "73855  tt9916160                       Drømmeland                  Drømmeland   \n",
       "\n",
       "       start_year  runtime_minutes                genres  averagerating  \\\n",
       "0            2013            175.0    Action,Crime,Drama            7.0   \n",
       "1            2019            114.0       Biography,Drama            7.2   \n",
       "2            2018            122.0                 Drama            6.9   \n",
       "3            2018              NaN          Comedy,Drama            6.1   \n",
       "4            2017             80.0  Comedy,Drama,Fantasy            6.5   \n",
       "...           ...              ...                   ...            ...   \n",
       "73851        2019             75.0           Documentary            6.2   \n",
       "73852        2019             98.0          Drama,Family            8.7   \n",
       "73853        2017              NaN           Documentary            8.5   \n",
       "73854        2019              NaN                   NaN            6.6   \n",
       "73855        2019             72.0           Documentary            6.5   \n",
       "\n",
       "       numvotes  \n",
       "0            77  \n",
       "1            43  \n",
       "2          4517  \n",
       "3            13  \n",
       "4           119  \n",
       "...         ...  \n",
       "73851         6  \n",
       "73852       136  \n",
       "73853         8  \n",
       "73854         5  \n",
       "73855        11  \n",
       "\n",
       "[73856 rows x 8 columns]"
      ]
     },
     "execution_count": 6,
     "metadata": {},
     "output_type": "execute_result"
    }
   ],
   "source": [
    "#merging df2 and df3 on 'tconst'\n",
    "df2_and_df3 = pd.merge(df2,df3, on ='tconst', how='inner')\n",
    "df2_and_df3"
   ]
  },
  {
   "cell_type": "markdown",
   "metadata": {},
   "source": [
    "## Renaming 'title' column in df1"
   ]
  },
  {
   "cell_type": "markdown",
   "metadata": {},
   "source": [
    "The 'title' column in df1 is equivalent to 'original_title' in df2. Hence, we can rename df1 'title' column to 'original_title' to enamble ease of merging."
   ]
  },
  {
   "cell_type": "code",
   "execution_count": 7,
   "metadata": {},
   "outputs": [],
   "source": [
    "df1.rename(columns={'title': 'original_title'}, inplace=True)"
   ]
  },
  {
   "cell_type": "code",
   "execution_count": 8,
   "metadata": {},
   "outputs": [
    {
     "data": {
      "text/html": [
       "<div>\n",
       "<style scoped>\n",
       "    .dataframe tbody tr th:only-of-type {\n",
       "        vertical-align: middle;\n",
       "    }\n",
       "\n",
       "    .dataframe tbody tr th {\n",
       "        vertical-align: top;\n",
       "    }\n",
       "\n",
       "    .dataframe thead th {\n",
       "        text-align: right;\n",
       "    }\n",
       "</style>\n",
       "<table border=\"1\" class=\"dataframe\">\n",
       "  <thead>\n",
       "    <tr style=\"text-align: right;\">\n",
       "      <th></th>\n",
       "      <th>tconst</th>\n",
       "      <th>primary_title</th>\n",
       "      <th>original_title</th>\n",
       "      <th>start_year</th>\n",
       "      <th>runtime_minutes</th>\n",
       "      <th>genres</th>\n",
       "      <th>averagerating</th>\n",
       "      <th>numvotes</th>\n",
       "      <th>studio</th>\n",
       "      <th>domestic_gross</th>\n",
       "      <th>foreign_gross</th>\n",
       "      <th>year</th>\n",
       "    </tr>\n",
       "  </thead>\n",
       "  <tbody>\n",
       "    <tr>\n",
       "      <th>0</th>\n",
       "      <td>tt0315642</td>\n",
       "      <td>Wazir</td>\n",
       "      <td>Wazir</td>\n",
       "      <td>2016</td>\n",
       "      <td>103.0</td>\n",
       "      <td>Action,Crime,Drama</td>\n",
       "      <td>7.1</td>\n",
       "      <td>15378</td>\n",
       "      <td>Relbig.</td>\n",
       "      <td>1100000.0</td>\n",
       "      <td>NaN</td>\n",
       "      <td>2016</td>\n",
       "    </tr>\n",
       "    <tr>\n",
       "      <th>1</th>\n",
       "      <td>tt0337692</td>\n",
       "      <td>On the Road</td>\n",
       "      <td>On the Road</td>\n",
       "      <td>2012</td>\n",
       "      <td>124.0</td>\n",
       "      <td>Adventure,Drama,Romance</td>\n",
       "      <td>6.1</td>\n",
       "      <td>37886</td>\n",
       "      <td>IFC</td>\n",
       "      <td>744000.0</td>\n",
       "      <td>8000000</td>\n",
       "      <td>2012</td>\n",
       "    </tr>\n",
       "    <tr>\n",
       "      <th>2</th>\n",
       "      <td>tt4339118</td>\n",
       "      <td>On the Road</td>\n",
       "      <td>On the Road</td>\n",
       "      <td>2014</td>\n",
       "      <td>89.0</td>\n",
       "      <td>Drama</td>\n",
       "      <td>6.0</td>\n",
       "      <td>6</td>\n",
       "      <td>IFC</td>\n",
       "      <td>744000.0</td>\n",
       "      <td>8000000</td>\n",
       "      <td>2012</td>\n",
       "    </tr>\n",
       "    <tr>\n",
       "      <th>3</th>\n",
       "      <td>tt5647250</td>\n",
       "      <td>On the Road</td>\n",
       "      <td>On the Road</td>\n",
       "      <td>2016</td>\n",
       "      <td>121.0</td>\n",
       "      <td>Drama</td>\n",
       "      <td>5.7</td>\n",
       "      <td>127</td>\n",
       "      <td>IFC</td>\n",
       "      <td>744000.0</td>\n",
       "      <td>8000000</td>\n",
       "      <td>2012</td>\n",
       "    </tr>\n",
       "    <tr>\n",
       "      <th>4</th>\n",
       "      <td>tt0359950</td>\n",
       "      <td>The Secret Life of Walter Mitty</td>\n",
       "      <td>The Secret Life of Walter Mitty</td>\n",
       "      <td>2013</td>\n",
       "      <td>114.0</td>\n",
       "      <td>Adventure,Comedy,Drama</td>\n",
       "      <td>7.3</td>\n",
       "      <td>275300</td>\n",
       "      <td>Fox</td>\n",
       "      <td>58200000.0</td>\n",
       "      <td>129900000</td>\n",
       "      <td>2013</td>\n",
       "    </tr>\n",
       "    <tr>\n",
       "      <th>...</th>\n",
       "      <td>...</td>\n",
       "      <td>...</td>\n",
       "      <td>...</td>\n",
       "      <td>...</td>\n",
       "      <td>...</td>\n",
       "      <td>...</td>\n",
       "      <td>...</td>\n",
       "      <td>...</td>\n",
       "      <td>...</td>\n",
       "      <td>...</td>\n",
       "      <td>...</td>\n",
       "      <td>...</td>\n",
       "    </tr>\n",
       "    <tr>\n",
       "      <th>2442</th>\n",
       "      <td>tt8097306</td>\n",
       "      <td>Nobody's Fool</td>\n",
       "      <td>Nobody's Fool</td>\n",
       "      <td>2018</td>\n",
       "      <td>110.0</td>\n",
       "      <td>Comedy,Drama,Romance</td>\n",
       "      <td>4.6</td>\n",
       "      <td>3618</td>\n",
       "      <td>Par.</td>\n",
       "      <td>31700000.0</td>\n",
       "      <td>1800000</td>\n",
       "      <td>2018</td>\n",
       "    </tr>\n",
       "    <tr>\n",
       "      <th>2443</th>\n",
       "      <td>tt8108198</td>\n",
       "      <td>Andhadhun</td>\n",
       "      <td>Andhadhun</td>\n",
       "      <td>2018</td>\n",
       "      <td>139.0</td>\n",
       "      <td>Crime,Thriller</td>\n",
       "      <td>8.5</td>\n",
       "      <td>43409</td>\n",
       "      <td>Eros</td>\n",
       "      <td>1200000.0</td>\n",
       "      <td>NaN</td>\n",
       "      <td>2018</td>\n",
       "    </tr>\n",
       "    <tr>\n",
       "      <th>2444</th>\n",
       "      <td>tt8427036</td>\n",
       "      <td>Helicopter Eela</td>\n",
       "      <td>Helicopter Eela</td>\n",
       "      <td>2018</td>\n",
       "      <td>135.0</td>\n",
       "      <td>Drama</td>\n",
       "      <td>5.4</td>\n",
       "      <td>673</td>\n",
       "      <td>Eros</td>\n",
       "      <td>72000.0</td>\n",
       "      <td>NaN</td>\n",
       "      <td>2018</td>\n",
       "    </tr>\n",
       "    <tr>\n",
       "      <th>2445</th>\n",
       "      <td>tt8549902</td>\n",
       "      <td>Oolong Courtyard: KungFu School</td>\n",
       "      <td>Oolong Courtyard</td>\n",
       "      <td>2018</td>\n",
       "      <td>103.0</td>\n",
       "      <td>Comedy</td>\n",
       "      <td>4.6</td>\n",
       "      <td>61</td>\n",
       "      <td>CL</td>\n",
       "      <td>37700.0</td>\n",
       "      <td>NaN</td>\n",
       "      <td>2018</td>\n",
       "    </tr>\n",
       "    <tr>\n",
       "      <th>2446</th>\n",
       "      <td>tt9151704</td>\n",
       "      <td>Burn the Stage: The Movie</td>\n",
       "      <td>Burn the Stage: The Movie</td>\n",
       "      <td>2018</td>\n",
       "      <td>84.0</td>\n",
       "      <td>Documentary,Music</td>\n",
       "      <td>8.8</td>\n",
       "      <td>2067</td>\n",
       "      <td>Trafalgar</td>\n",
       "      <td>4200000.0</td>\n",
       "      <td>16100000</td>\n",
       "      <td>2018</td>\n",
       "    </tr>\n",
       "  </tbody>\n",
       "</table>\n",
       "<p>2447 rows × 12 columns</p>\n",
       "</div>"
      ],
      "text/plain": [
       "         tconst                    primary_title  \\\n",
       "0     tt0315642                            Wazir   \n",
       "1     tt0337692                      On the Road   \n",
       "2     tt4339118                      On the Road   \n",
       "3     tt5647250                      On the Road   \n",
       "4     tt0359950  The Secret Life of Walter Mitty   \n",
       "...         ...                              ...   \n",
       "2442  tt8097306                    Nobody's Fool   \n",
       "2443  tt8108198                        Andhadhun   \n",
       "2444  tt8427036                  Helicopter Eela   \n",
       "2445  tt8549902  Oolong Courtyard: KungFu School   \n",
       "2446  tt9151704        Burn the Stage: The Movie   \n",
       "\n",
       "                       original_title  start_year  runtime_minutes  \\\n",
       "0                               Wazir        2016            103.0   \n",
       "1                         On the Road        2012            124.0   \n",
       "2                         On the Road        2014             89.0   \n",
       "3                         On the Road        2016            121.0   \n",
       "4     The Secret Life of Walter Mitty        2013            114.0   \n",
       "...                               ...         ...              ...   \n",
       "2442                    Nobody's Fool        2018            110.0   \n",
       "2443                        Andhadhun        2018            139.0   \n",
       "2444                  Helicopter Eela        2018            135.0   \n",
       "2445                 Oolong Courtyard        2018            103.0   \n",
       "2446        Burn the Stage: The Movie        2018             84.0   \n",
       "\n",
       "                       genres  averagerating  numvotes     studio  \\\n",
       "0          Action,Crime,Drama            7.1     15378    Relbig.   \n",
       "1     Adventure,Drama,Romance            6.1     37886        IFC   \n",
       "2                       Drama            6.0         6        IFC   \n",
       "3                       Drama            5.7       127        IFC   \n",
       "4      Adventure,Comedy,Drama            7.3    275300        Fox   \n",
       "...                       ...            ...       ...        ...   \n",
       "2442     Comedy,Drama,Romance            4.6      3618       Par.   \n",
       "2443           Crime,Thriller            8.5     43409       Eros   \n",
       "2444                    Drama            5.4       673       Eros   \n",
       "2445                   Comedy            4.6        61         CL   \n",
       "2446        Documentary,Music            8.8      2067  Trafalgar   \n",
       "\n",
       "      domestic_gross foreign_gross  year  \n",
       "0          1100000.0           NaN  2016  \n",
       "1           744000.0       8000000  2012  \n",
       "2           744000.0       8000000  2012  \n",
       "3           744000.0       8000000  2012  \n",
       "4         58200000.0     129900000  2013  \n",
       "...              ...           ...   ...  \n",
       "2442      31700000.0       1800000  2018  \n",
       "2443       1200000.0           NaN  2018  \n",
       "2444         72000.0           NaN  2018  \n",
       "2445         37700.0           NaN  2018  \n",
       "2446       4200000.0      16100000  2018  \n",
       "\n",
       "[2447 rows x 12 columns]"
      ]
     },
     "execution_count": 8,
     "metadata": {},
     "output_type": "execute_result"
    }
   ],
   "source": [
    "#merging df2_and_df3 and df1 on 'title'\n",
    "merged_df=pd.merge(df2_and_df3, df1, on= 'original_title', how='inner')\n",
    "merged_df"
   ]
  },
  {
   "cell_type": "code",
   "execution_count": 9,
   "metadata": {},
   "outputs": [],
   "source": [
    "#Assign merged_df to the variable Data\n",
    "data=merged_df"
   ]
  },
  {
   "cell_type": "markdown",
   "metadata": {},
   "source": [
    "## Data Exploration"
   ]
  },
  {
   "cell_type": "code",
   "execution_count": 10,
   "metadata": {},
   "outputs": [
    {
     "data": {
      "text/html": [
       "<div>\n",
       "<style scoped>\n",
       "    .dataframe tbody tr th:only-of-type {\n",
       "        vertical-align: middle;\n",
       "    }\n",
       "\n",
       "    .dataframe tbody tr th {\n",
       "        vertical-align: top;\n",
       "    }\n",
       "\n",
       "    .dataframe thead th {\n",
       "        text-align: right;\n",
       "    }\n",
       "</style>\n",
       "<table border=\"1\" class=\"dataframe\">\n",
       "  <thead>\n",
       "    <tr style=\"text-align: right;\">\n",
       "      <th></th>\n",
       "      <th>tconst</th>\n",
       "      <th>primary_title</th>\n",
       "      <th>original_title</th>\n",
       "      <th>start_year</th>\n",
       "      <th>runtime_minutes</th>\n",
       "      <th>genres</th>\n",
       "      <th>averagerating</th>\n",
       "      <th>numvotes</th>\n",
       "      <th>studio</th>\n",
       "      <th>domestic_gross</th>\n",
       "      <th>foreign_gross</th>\n",
       "      <th>year</th>\n",
       "    </tr>\n",
       "  </thead>\n",
       "  <tbody>\n",
       "    <tr>\n",
       "      <th>2442</th>\n",
       "      <td>tt8097306</td>\n",
       "      <td>Nobody's Fool</td>\n",
       "      <td>Nobody's Fool</td>\n",
       "      <td>2018</td>\n",
       "      <td>110.0</td>\n",
       "      <td>Comedy,Drama,Romance</td>\n",
       "      <td>4.6</td>\n",
       "      <td>3618</td>\n",
       "      <td>Par.</td>\n",
       "      <td>31700000.0</td>\n",
       "      <td>1800000</td>\n",
       "      <td>2018</td>\n",
       "    </tr>\n",
       "    <tr>\n",
       "      <th>2443</th>\n",
       "      <td>tt8108198</td>\n",
       "      <td>Andhadhun</td>\n",
       "      <td>Andhadhun</td>\n",
       "      <td>2018</td>\n",
       "      <td>139.0</td>\n",
       "      <td>Crime,Thriller</td>\n",
       "      <td>8.5</td>\n",
       "      <td>43409</td>\n",
       "      <td>Eros</td>\n",
       "      <td>1200000.0</td>\n",
       "      <td>NaN</td>\n",
       "      <td>2018</td>\n",
       "    </tr>\n",
       "    <tr>\n",
       "      <th>2444</th>\n",
       "      <td>tt8427036</td>\n",
       "      <td>Helicopter Eela</td>\n",
       "      <td>Helicopter Eela</td>\n",
       "      <td>2018</td>\n",
       "      <td>135.0</td>\n",
       "      <td>Drama</td>\n",
       "      <td>5.4</td>\n",
       "      <td>673</td>\n",
       "      <td>Eros</td>\n",
       "      <td>72000.0</td>\n",
       "      <td>NaN</td>\n",
       "      <td>2018</td>\n",
       "    </tr>\n",
       "    <tr>\n",
       "      <th>2445</th>\n",
       "      <td>tt8549902</td>\n",
       "      <td>Oolong Courtyard: KungFu School</td>\n",
       "      <td>Oolong Courtyard</td>\n",
       "      <td>2018</td>\n",
       "      <td>103.0</td>\n",
       "      <td>Comedy</td>\n",
       "      <td>4.6</td>\n",
       "      <td>61</td>\n",
       "      <td>CL</td>\n",
       "      <td>37700.0</td>\n",
       "      <td>NaN</td>\n",
       "      <td>2018</td>\n",
       "    </tr>\n",
       "    <tr>\n",
       "      <th>2446</th>\n",
       "      <td>tt9151704</td>\n",
       "      <td>Burn the Stage: The Movie</td>\n",
       "      <td>Burn the Stage: The Movie</td>\n",
       "      <td>2018</td>\n",
       "      <td>84.0</td>\n",
       "      <td>Documentary,Music</td>\n",
       "      <td>8.8</td>\n",
       "      <td>2067</td>\n",
       "      <td>Trafalgar</td>\n",
       "      <td>4200000.0</td>\n",
       "      <td>16100000</td>\n",
       "      <td>2018</td>\n",
       "    </tr>\n",
       "  </tbody>\n",
       "</table>\n",
       "</div>"
      ],
      "text/plain": [
       "         tconst                    primary_title             original_title  \\\n",
       "2442  tt8097306                    Nobody's Fool              Nobody's Fool   \n",
       "2443  tt8108198                        Andhadhun                  Andhadhun   \n",
       "2444  tt8427036                  Helicopter Eela            Helicopter Eela   \n",
       "2445  tt8549902  Oolong Courtyard: KungFu School           Oolong Courtyard   \n",
       "2446  tt9151704        Burn the Stage: The Movie  Burn the Stage: The Movie   \n",
       "\n",
       "      start_year  runtime_minutes                genres  averagerating  \\\n",
       "2442        2018            110.0  Comedy,Drama,Romance            4.6   \n",
       "2443        2018            139.0        Crime,Thriller            8.5   \n",
       "2444        2018            135.0                 Drama            5.4   \n",
       "2445        2018            103.0                Comedy            4.6   \n",
       "2446        2018             84.0     Documentary,Music            8.8   \n",
       "\n",
       "      numvotes     studio  domestic_gross foreign_gross  year  \n",
       "2442      3618       Par.      31700000.0       1800000  2018  \n",
       "2443     43409       Eros       1200000.0           NaN  2018  \n",
       "2444       673       Eros         72000.0           NaN  2018  \n",
       "2445        61         CL         37700.0           NaN  2018  \n",
       "2446      2067  Trafalgar       4200000.0      16100000  2018  "
      ]
     },
     "execution_count": 10,
     "metadata": {},
     "output_type": "execute_result"
    }
   ],
   "source": [
    "#displays the first five rows of our Data\n",
    "data.tail()"
   ]
  },
  {
   "cell_type": "code",
   "execution_count": 11,
   "metadata": {},
   "outputs": [
    {
     "data": {
      "text/plain": [
       "(2447, 12)"
      ]
     },
     "execution_count": 11,
     "metadata": {},
     "output_type": "execute_result"
    }
   ],
   "source": [
    "#checking number of rows and columns\n",
    "data.shape"
   ]
  },
  {
   "cell_type": "code",
   "execution_count": 12,
   "metadata": {},
   "outputs": [
    {
     "name": "stdout",
     "output_type": "stream",
     "text": [
      "<class 'pandas.core.frame.DataFrame'>\n",
      "Int64Index: 2447 entries, 0 to 2446\n",
      "Data columns (total 12 columns):\n",
      " #   Column           Non-Null Count  Dtype  \n",
      "---  ------           --------------  -----  \n",
      " 0   tconst           2447 non-null   object \n",
      " 1   primary_title    2447 non-null   object \n",
      " 2   original_title   2447 non-null   object \n",
      " 3   start_year       2447 non-null   int64  \n",
      " 4   runtime_minutes  2402 non-null   float64\n",
      " 5   genres           2443 non-null   object \n",
      " 6   averagerating    2447 non-null   float64\n",
      " 7   numvotes         2447 non-null   int64  \n",
      " 8   studio           2444 non-null   object \n",
      " 9   domestic_gross   2429 non-null   float64\n",
      " 10  foreign_gross    1573 non-null   object \n",
      " 11  year             2447 non-null   int64  \n",
      "dtypes: float64(3), int64(3), object(6)\n",
      "memory usage: 248.5+ KB\n"
     ]
    }
   ],
   "source": [
    "# getting overview of the data\n",
    "data.info()"
   ]
  },
  {
   "cell_type": "markdown",
   "metadata": {},
   "source": [
    "The values in 'foreign_gross' column are type(object) instead of float64. We therefore must change it to the right type.To change data type we will first fill (NaN) with place holder value."
   ]
  },
  {
   "cell_type": "code",
   "execution_count": 13,
   "metadata": {},
   "outputs": [
    {
     "data": {
      "text/plain": [
       "0             NaN\n",
       "1         8000000\n",
       "2         8000000\n",
       "3         8000000\n",
       "4       129900000\n",
       "          ...    \n",
       "2442      1800000\n",
       "2443          NaN\n",
       "2444          NaN\n",
       "2445          NaN\n",
       "2446     16100000\n",
       "Name: foreign_gross, Length: 2447, dtype: object"
      ]
     },
     "execution_count": 13,
     "metadata": {},
     "output_type": "execute_result"
    }
   ],
   "source": [
    "data['foreign_gross']"
   ]
  },
  {
   "cell_type": "code",
   "execution_count": 14,
   "metadata": {},
   "outputs": [],
   "source": [
    "#change 'foreign_gross' to numeric\n",
    "data['foreign_gross'] = pd.to_numeric(data['foreign_gross'], errors='coerce')"
   ]
  },
  {
   "cell_type": "code",
   "execution_count": 15,
   "metadata": {},
   "outputs": [
    {
     "data": {
      "text/plain": [
       "dtype('float64')"
      ]
     },
     "execution_count": 15,
     "metadata": {},
     "output_type": "execute_result"
    }
   ],
   "source": [
    "data['foreign_gross'].dtypes"
   ]
  },
  {
   "cell_type": "code",
   "execution_count": 16,
   "metadata": {},
   "outputs": [
    {
     "data": {
      "text/plain": [
       "Index(['tconst', 'primary_title', 'original_title', 'start_year',\n",
       "       'runtime_minutes', 'genres', 'averagerating', 'numvotes', 'studio',\n",
       "       'domestic_gross', 'foreign_gross', 'year'],\n",
       "      dtype='object')"
      ]
     },
     "execution_count": 16,
     "metadata": {},
     "output_type": "execute_result"
    }
   ],
   "source": [
    "#inspecting the columns\n",
    "data.columns   "
   ]
  },
  {
   "cell_type": "code",
   "execution_count": 17,
   "metadata": {
    "scrolled": true
   },
   "outputs": [
    {
     "data": {
      "text/html": [
       "<div>\n",
       "<style scoped>\n",
       "    .dataframe tbody tr th:only-of-type {\n",
       "        vertical-align: middle;\n",
       "    }\n",
       "\n",
       "    .dataframe tbody tr th {\n",
       "        vertical-align: top;\n",
       "    }\n",
       "\n",
       "    .dataframe thead th {\n",
       "        text-align: right;\n",
       "    }\n",
       "</style>\n",
       "<table border=\"1\" class=\"dataframe\">\n",
       "  <thead>\n",
       "    <tr style=\"text-align: right;\">\n",
       "      <th></th>\n",
       "      <th>tconst</th>\n",
       "      <th>primary_title</th>\n",
       "      <th>original_title</th>\n",
       "      <th>start_year</th>\n",
       "      <th>runtime_minutes</th>\n",
       "      <th>genres</th>\n",
       "      <th>averagerating</th>\n",
       "      <th>numvotes</th>\n",
       "      <th>studio</th>\n",
       "      <th>domestic_gross</th>\n",
       "      <th>foreign_gross</th>\n",
       "      <th>year</th>\n",
       "    </tr>\n",
       "  </thead>\n",
       "  <tbody>\n",
       "    <tr>\n",
       "      <th>0</th>\n",
       "      <td>False</td>\n",
       "      <td>False</td>\n",
       "      <td>False</td>\n",
       "      <td>False</td>\n",
       "      <td>False</td>\n",
       "      <td>False</td>\n",
       "      <td>False</td>\n",
       "      <td>False</td>\n",
       "      <td>False</td>\n",
       "      <td>False</td>\n",
       "      <td>True</td>\n",
       "      <td>False</td>\n",
       "    </tr>\n",
       "    <tr>\n",
       "      <th>1</th>\n",
       "      <td>False</td>\n",
       "      <td>False</td>\n",
       "      <td>False</td>\n",
       "      <td>False</td>\n",
       "      <td>False</td>\n",
       "      <td>False</td>\n",
       "      <td>False</td>\n",
       "      <td>False</td>\n",
       "      <td>False</td>\n",
       "      <td>False</td>\n",
       "      <td>False</td>\n",
       "      <td>False</td>\n",
       "    </tr>\n",
       "    <tr>\n",
       "      <th>2</th>\n",
       "      <td>False</td>\n",
       "      <td>False</td>\n",
       "      <td>False</td>\n",
       "      <td>False</td>\n",
       "      <td>False</td>\n",
       "      <td>False</td>\n",
       "      <td>False</td>\n",
       "      <td>False</td>\n",
       "      <td>False</td>\n",
       "      <td>False</td>\n",
       "      <td>False</td>\n",
       "      <td>False</td>\n",
       "    </tr>\n",
       "    <tr>\n",
       "      <th>3</th>\n",
       "      <td>False</td>\n",
       "      <td>False</td>\n",
       "      <td>False</td>\n",
       "      <td>False</td>\n",
       "      <td>False</td>\n",
       "      <td>False</td>\n",
       "      <td>False</td>\n",
       "      <td>False</td>\n",
       "      <td>False</td>\n",
       "      <td>False</td>\n",
       "      <td>False</td>\n",
       "      <td>False</td>\n",
       "    </tr>\n",
       "    <tr>\n",
       "      <th>4</th>\n",
       "      <td>False</td>\n",
       "      <td>False</td>\n",
       "      <td>False</td>\n",
       "      <td>False</td>\n",
       "      <td>False</td>\n",
       "      <td>False</td>\n",
       "      <td>False</td>\n",
       "      <td>False</td>\n",
       "      <td>False</td>\n",
       "      <td>False</td>\n",
       "      <td>False</td>\n",
       "      <td>False</td>\n",
       "    </tr>\n",
       "    <tr>\n",
       "      <th>...</th>\n",
       "      <td>...</td>\n",
       "      <td>...</td>\n",
       "      <td>...</td>\n",
       "      <td>...</td>\n",
       "      <td>...</td>\n",
       "      <td>...</td>\n",
       "      <td>...</td>\n",
       "      <td>...</td>\n",
       "      <td>...</td>\n",
       "      <td>...</td>\n",
       "      <td>...</td>\n",
       "      <td>...</td>\n",
       "    </tr>\n",
       "    <tr>\n",
       "      <th>2442</th>\n",
       "      <td>False</td>\n",
       "      <td>False</td>\n",
       "      <td>False</td>\n",
       "      <td>False</td>\n",
       "      <td>False</td>\n",
       "      <td>False</td>\n",
       "      <td>False</td>\n",
       "      <td>False</td>\n",
       "      <td>False</td>\n",
       "      <td>False</td>\n",
       "      <td>False</td>\n",
       "      <td>False</td>\n",
       "    </tr>\n",
       "    <tr>\n",
       "      <th>2443</th>\n",
       "      <td>False</td>\n",
       "      <td>False</td>\n",
       "      <td>False</td>\n",
       "      <td>False</td>\n",
       "      <td>False</td>\n",
       "      <td>False</td>\n",
       "      <td>False</td>\n",
       "      <td>False</td>\n",
       "      <td>False</td>\n",
       "      <td>False</td>\n",
       "      <td>True</td>\n",
       "      <td>False</td>\n",
       "    </tr>\n",
       "    <tr>\n",
       "      <th>2444</th>\n",
       "      <td>False</td>\n",
       "      <td>False</td>\n",
       "      <td>False</td>\n",
       "      <td>False</td>\n",
       "      <td>False</td>\n",
       "      <td>False</td>\n",
       "      <td>False</td>\n",
       "      <td>False</td>\n",
       "      <td>False</td>\n",
       "      <td>False</td>\n",
       "      <td>True</td>\n",
       "      <td>False</td>\n",
       "    </tr>\n",
       "    <tr>\n",
       "      <th>2445</th>\n",
       "      <td>False</td>\n",
       "      <td>False</td>\n",
       "      <td>False</td>\n",
       "      <td>False</td>\n",
       "      <td>False</td>\n",
       "      <td>False</td>\n",
       "      <td>False</td>\n",
       "      <td>False</td>\n",
       "      <td>False</td>\n",
       "      <td>False</td>\n",
       "      <td>True</td>\n",
       "      <td>False</td>\n",
       "    </tr>\n",
       "    <tr>\n",
       "      <th>2446</th>\n",
       "      <td>False</td>\n",
       "      <td>False</td>\n",
       "      <td>False</td>\n",
       "      <td>False</td>\n",
       "      <td>False</td>\n",
       "      <td>False</td>\n",
       "      <td>False</td>\n",
       "      <td>False</td>\n",
       "      <td>False</td>\n",
       "      <td>False</td>\n",
       "      <td>False</td>\n",
       "      <td>False</td>\n",
       "    </tr>\n",
       "  </tbody>\n",
       "</table>\n",
       "<p>2447 rows × 12 columns</p>\n",
       "</div>"
      ],
      "text/plain": [
       "      tconst  primary_title  original_title  start_year  runtime_minutes  \\\n",
       "0      False          False           False       False            False   \n",
       "1      False          False           False       False            False   \n",
       "2      False          False           False       False            False   \n",
       "3      False          False           False       False            False   \n",
       "4      False          False           False       False            False   \n",
       "...      ...            ...             ...         ...              ...   \n",
       "2442   False          False           False       False            False   \n",
       "2443   False          False           False       False            False   \n",
       "2444   False          False           False       False            False   \n",
       "2445   False          False           False       False            False   \n",
       "2446   False          False           False       False            False   \n",
       "\n",
       "      genres  averagerating  numvotes  studio  domestic_gross  foreign_gross  \\\n",
       "0      False          False     False   False           False           True   \n",
       "1      False          False     False   False           False          False   \n",
       "2      False          False     False   False           False          False   \n",
       "3      False          False     False   False           False          False   \n",
       "4      False          False     False   False           False          False   \n",
       "...      ...            ...       ...     ...             ...            ...   \n",
       "2442   False          False     False   False           False          False   \n",
       "2443   False          False     False   False           False           True   \n",
       "2444   False          False     False   False           False           True   \n",
       "2445   False          False     False   False           False           True   \n",
       "2446   False          False     False   False           False          False   \n",
       "\n",
       "       year  \n",
       "0     False  \n",
       "1     False  \n",
       "2     False  \n",
       "3     False  \n",
       "4     False  \n",
       "...     ...  \n",
       "2442  False  \n",
       "2443  False  \n",
       "2444  False  \n",
       "2445  False  \n",
       "2446  False  \n",
       "\n",
       "[2447 rows x 12 columns]"
      ]
     },
     "execution_count": 17,
     "metadata": {},
     "output_type": "execute_result"
    }
   ],
   "source": [
    "#checking for missing data\n",
    "data.isnull()"
   ]
  },
  {
   "cell_type": "code",
   "execution_count": 18,
   "metadata": {},
   "outputs": [
    {
     "data": {
      "text/plain": [
       "tconst               0\n",
       "primary_title        0\n",
       "original_title       0\n",
       "start_year           0\n",
       "runtime_minutes     45\n",
       "genres               4\n",
       "averagerating        0\n",
       "numvotes             0\n",
       "studio               3\n",
       "domestic_gross      18\n",
       "foreign_gross      877\n",
       "year                 0\n",
       "dtype: int64"
      ]
     },
     "execution_count": 18,
     "metadata": {},
     "output_type": "execute_result"
    }
   ],
   "source": [
    "#summing the missing values\n",
    "data.isnull().sum()"
   ]
  },
  {
   "cell_type": "code",
   "execution_count": 19,
   "metadata": {},
   "outputs": [
    {
     "data": {
      "text/plain": [
       "tconst              0.000000\n",
       "primary_title       0.000000\n",
       "original_title      0.000000\n",
       "start_year          0.000000\n",
       "runtime_minutes     1.328609\n",
       "genres              0.118099\n",
       "averagerating       0.000000\n",
       "numvotes            0.000000\n",
       "studio              0.088574\n",
       "domestic_gross      0.531444\n",
       "foreign_gross      25.893121\n",
       "year                0.000000\n",
       "dtype: float64"
      ]
     },
     "execution_count": 19,
     "metadata": {},
     "output_type": "execute_result"
    }
   ],
   "source": [
    "#getting percentage of missing values\n",
    "missing_data = data.isnull().sum() * 100/len(df1)\n",
    "missing_data"
   ]
  },
  {
   "cell_type": "markdown",
   "metadata": {},
   "source": [
    "## Missing Data Visualization\n",
    "We can visualize missing values using seaborn heatmap"
   ]
  },
  {
   "cell_type": "code",
   "execution_count": 21,
   "metadata": {},
   "outputs": [
    {
     "data": {
      "image/png": "[encoded data removed]",
      "text/plain": [
       "<Figure size 720x576 with 1 Axes>"
      ]
     },
     "metadata": {},
     "output_type": "display_data"
    }
   ],
   "source": [
    "# set figure size\n",
    "plt.figure(figsize=(10, 8))\n",
    "# adjust font scale\n",
    "sns.set(font_scale=1.2)\n",
    "sns.heatmap(data.isnull(),  cbar=False, cmap='viridis', )\n",
    "#set labels\n",
    "plt.title('Heatmap showing columns with null values')\n",
    "plt.xlabel('Columns')\n",
    "plt.ylabel('Rows')\n",
    "plt.show()"
   ]
  },
  {
   "cell_type": "markdown",
   "metadata": {},
   "source": [
    "From the heatmap above we can see that null values are in foreign_gross column, domestic_gross column , studio column, genres column and runtime_minutes column"
   ]
  },
  {
   "cell_type": "markdown",
   "metadata": {},
   "source": [
    "## Dealing with Missing data"
   ]
  },
  {
   "cell_type": "markdown",
   "metadata": {},
   "source": [
    "Missing values for columns runtime_minutes is 1.328609%, genres is 0.118099%, studio is 0.088574%, domestic_gross is  0.531444%, and for foreign_gross is 25.804547%. We will replace missing runtime_minutesvalues with its median,the missing domestic_gross values with the median and foreign_gross missing values with the median as well.We chose to replace with median to avoid possible outliers that can affect the mean. For genres, we will replace the missing values with 'Unknown' and also for studio we will replace with 'Unkown'. This is to avoid filling wrong information in genres and studio columns which can affect validity of our analysis"
   ]
  },
  {
   "cell_type": "code",
   "execution_count": 22,
   "metadata": {},
   "outputs": [
    {
     "data": {
      "text/html": [
       "<div>\n",
       "<style scoped>\n",
       "    .dataframe tbody tr th:only-of-type {\n",
       "        vertical-align: middle;\n",
       "    }\n",
       "\n",
       "    .dataframe tbody tr th {\n",
       "        vertical-align: top;\n",
       "    }\n",
       "\n",
       "    .dataframe thead th {\n",
       "        text-align: right;\n",
       "    }\n",
       "</style>\n",
       "<table border=\"1\" class=\"dataframe\">\n",
       "  <thead>\n",
       "    <tr style=\"text-align: right;\">\n",
       "      <th></th>\n",
       "      <th>start_year</th>\n",
       "      <th>runtime_minutes</th>\n",
       "      <th>averagerating</th>\n",
       "      <th>numvotes</th>\n",
       "      <th>domestic_gross</th>\n",
       "      <th>foreign_gross</th>\n",
       "      <th>year</th>\n",
       "    </tr>\n",
       "  </thead>\n",
       "  <tbody>\n",
       "    <tr>\n",
       "      <th>count</th>\n",
       "      <td>2447.000000</td>\n",
       "      <td>2402.000000</td>\n",
       "      <td>2447.000000</td>\n",
       "      <td>2.447000e+03</td>\n",
       "      <td>2.429000e+03</td>\n",
       "      <td>1.570000e+03</td>\n",
       "      <td>2447.000000</td>\n",
       "    </tr>\n",
       "    <tr>\n",
       "      <th>mean</th>\n",
       "      <td>2013.774418</td>\n",
       "      <td>106.810575</td>\n",
       "      <td>6.406293</td>\n",
       "      <td>7.273033e+04</td>\n",
       "      <td>3.612440e+07</td>\n",
       "      <td>8.175892e+07</td>\n",
       "      <td>2014.001635</td>\n",
       "    </tr>\n",
       "    <tr>\n",
       "      <th>std</th>\n",
       "      <td>2.496398</td>\n",
       "      <td>20.061202</td>\n",
       "      <td>1.045029</td>\n",
       "      <td>1.345874e+05</td>\n",
       "      <td>6.952373e+07</td>\n",
       "      <td>1.396428e+08</td>\n",
       "      <td>2.464797</td>\n",
       "    </tr>\n",
       "    <tr>\n",
       "      <th>min</th>\n",
       "      <td>2010.000000</td>\n",
       "      <td>3.000000</td>\n",
       "      <td>1.600000</td>\n",
       "      <td>5.000000e+00</td>\n",
       "      <td>1.000000e+02</td>\n",
       "      <td>6.000000e+02</td>\n",
       "      <td>2010.000000</td>\n",
       "    </tr>\n",
       "    <tr>\n",
       "      <th>25%</th>\n",
       "      <td>2012.000000</td>\n",
       "      <td>94.000000</td>\n",
       "      <td>5.800000</td>\n",
       "      <td>3.776000e+03</td>\n",
       "      <td>3.020000e+05</td>\n",
       "      <td>5.200000e+06</td>\n",
       "      <td>2012.000000</td>\n",
       "    </tr>\n",
       "    <tr>\n",
       "      <th>50%</th>\n",
       "      <td>2014.000000</td>\n",
       "      <td>104.000000</td>\n",
       "      <td>6.500000</td>\n",
       "      <td>2.074600e+04</td>\n",
       "      <td>5.100000e+06</td>\n",
       "      <td>2.340000e+07</td>\n",
       "      <td>2014.000000</td>\n",
       "    </tr>\n",
       "    <tr>\n",
       "      <th>75%</th>\n",
       "      <td>2016.000000</td>\n",
       "      <td>118.000000</td>\n",
       "      <td>7.100000</td>\n",
       "      <td>8.063900e+04</td>\n",
       "      <td>4.300000e+07</td>\n",
       "      <td>8.670000e+07</td>\n",
       "      <td>2016.000000</td>\n",
       "    </tr>\n",
       "    <tr>\n",
       "      <th>max</th>\n",
       "      <td>2019.000000</td>\n",
       "      <td>186.000000</td>\n",
       "      <td>9.200000</td>\n",
       "      <td>1.841066e+06</td>\n",
       "      <td>7.001000e+08</td>\n",
       "      <td>9.464000e+08</td>\n",
       "      <td>2018.000000</td>\n",
       "    </tr>\n",
       "  </tbody>\n",
       "</table>\n",
       "</div>"
      ],
      "text/plain": [
       "        start_year  runtime_minutes  averagerating      numvotes  \\\n",
       "count  2447.000000      2402.000000    2447.000000  2.447000e+03   \n",
       "mean   2013.774418       106.810575       6.406293  7.273033e+04   \n",
       "std       2.496398        20.061202       1.045029  1.345874e+05   \n",
       "min    2010.000000         3.000000       1.600000  5.000000e+00   \n",
       "25%    2012.000000        94.000000       5.800000  3.776000e+03   \n",
       "50%    2014.000000       104.000000       6.500000  2.074600e+04   \n",
       "75%    2016.000000       118.000000       7.100000  8.063900e+04   \n",
       "max    2019.000000       186.000000       9.200000  1.841066e+06   \n",
       "\n",
       "       domestic_gross  foreign_gross         year  \n",
       "count    2.429000e+03   1.570000e+03  2447.000000  \n",
       "mean     3.612440e+07   8.175892e+07  2014.001635  \n",
       "std      6.952373e+07   1.396428e+08     2.464797  \n",
       "min      1.000000e+02   6.000000e+02  2010.000000  \n",
       "25%      3.020000e+05   5.200000e+06  2012.000000  \n",
       "50%      5.100000e+06   2.340000e+07  2014.000000  \n",
       "75%      4.300000e+07   8.670000e+07  2016.000000  \n",
       "max      7.001000e+08   9.464000e+08  2018.000000  "
      ]
     },
     "execution_count": 22,
     "metadata": {},
     "output_type": "execute_result"
    }
   ],
   "source": [
    "#get statistical description of data set\n",
    "data.describe()"
   ]
  },
  {
   "cell_type": "code",
   "execution_count": 23,
   "metadata": {},
   "outputs": [
    {
     "data": {
      "text/html": [
       "<div>\n",
       "<style scoped>\n",
       "    .dataframe tbody tr th:only-of-type {\n",
       "        vertical-align: middle;\n",
       "    }\n",
       "\n",
       "    .dataframe tbody tr th {\n",
       "        vertical-align: top;\n",
       "    }\n",
       "\n",
       "    .dataframe thead th {\n",
       "        text-align: right;\n",
       "    }\n",
       "</style>\n",
       "<table border=\"1\" class=\"dataframe\">\n",
       "  <thead>\n",
       "    <tr style=\"text-align: right;\">\n",
       "      <th></th>\n",
       "      <th>tconst</th>\n",
       "      <th>primary_title</th>\n",
       "      <th>original_title</th>\n",
       "      <th>start_year</th>\n",
       "      <th>runtime_minutes</th>\n",
       "      <th>genres</th>\n",
       "      <th>averagerating</th>\n",
       "      <th>numvotes</th>\n",
       "      <th>studio</th>\n",
       "      <th>domestic_gross</th>\n",
       "      <th>foreign_gross</th>\n",
       "      <th>year</th>\n",
       "    </tr>\n",
       "  </thead>\n",
       "  <tbody>\n",
       "    <tr>\n",
       "      <th>0</th>\n",
       "      <td>tt0315642</td>\n",
       "      <td>Wazir</td>\n",
       "      <td>Wazir</td>\n",
       "      <td>2016</td>\n",
       "      <td>103.0</td>\n",
       "      <td>Action,Crime,Drama</td>\n",
       "      <td>7.1</td>\n",
       "      <td>15378</td>\n",
       "      <td>Relbig.</td>\n",
       "      <td>1100000.0</td>\n",
       "      <td>NaN</td>\n",
       "      <td>2016</td>\n",
       "    </tr>\n",
       "    <tr>\n",
       "      <th>1</th>\n",
       "      <td>tt0337692</td>\n",
       "      <td>On the Road</td>\n",
       "      <td>On the Road</td>\n",
       "      <td>2012</td>\n",
       "      <td>124.0</td>\n",
       "      <td>Adventure,Drama,Romance</td>\n",
       "      <td>6.1</td>\n",
       "      <td>37886</td>\n",
       "      <td>IFC</td>\n",
       "      <td>744000.0</td>\n",
       "      <td>8000000.0</td>\n",
       "      <td>2012</td>\n",
       "    </tr>\n",
       "    <tr>\n",
       "      <th>2</th>\n",
       "      <td>tt4339118</td>\n",
       "      <td>On the Road</td>\n",
       "      <td>On the Road</td>\n",
       "      <td>2014</td>\n",
       "      <td>89.0</td>\n",
       "      <td>Drama</td>\n",
       "      <td>6.0</td>\n",
       "      <td>6</td>\n",
       "      <td>IFC</td>\n",
       "      <td>744000.0</td>\n",
       "      <td>8000000.0</td>\n",
       "      <td>2012</td>\n",
       "    </tr>\n",
       "    <tr>\n",
       "      <th>3</th>\n",
       "      <td>tt5647250</td>\n",
       "      <td>On the Road</td>\n",
       "      <td>On the Road</td>\n",
       "      <td>2016</td>\n",
       "      <td>121.0</td>\n",
       "      <td>Drama</td>\n",
       "      <td>5.7</td>\n",
       "      <td>127</td>\n",
       "      <td>IFC</td>\n",
       "      <td>744000.0</td>\n",
       "      <td>8000000.0</td>\n",
       "      <td>2012</td>\n",
       "    </tr>\n",
       "    <tr>\n",
       "      <th>4</th>\n",
       "      <td>tt0359950</td>\n",
       "      <td>The Secret Life of Walter Mitty</td>\n",
       "      <td>The Secret Life of Walter Mitty</td>\n",
       "      <td>2013</td>\n",
       "      <td>114.0</td>\n",
       "      <td>Adventure,Comedy,Drama</td>\n",
       "      <td>7.3</td>\n",
       "      <td>275300</td>\n",
       "      <td>Fox</td>\n",
       "      <td>58200000.0</td>\n",
       "      <td>129900000.0</td>\n",
       "      <td>2013</td>\n",
       "    </tr>\n",
       "  </tbody>\n",
       "</table>\n",
       "</div>"
      ],
      "text/plain": [
       "      tconst                    primary_title  \\\n",
       "0  tt0315642                            Wazir   \n",
       "1  tt0337692                      On the Road   \n",
       "2  tt4339118                      On the Road   \n",
       "3  tt5647250                      On the Road   \n",
       "4  tt0359950  The Secret Life of Walter Mitty   \n",
       "\n",
       "                    original_title  start_year  runtime_minutes  \\\n",
       "0                            Wazir        2016            103.0   \n",
       "1                      On the Road        2012            124.0   \n",
       "2                      On the Road        2014             89.0   \n",
       "3                      On the Road        2016            121.0   \n",
       "4  The Secret Life of Walter Mitty        2013            114.0   \n",
       "\n",
       "                    genres  averagerating  numvotes   studio  domestic_gross  \\\n",
       "0       Action,Crime,Drama            7.1     15378  Relbig.       1100000.0   \n",
       "1  Adventure,Drama,Romance            6.1     37886      IFC        744000.0   \n",
       "2                    Drama            6.0         6      IFC        744000.0   \n",
       "3                    Drama            5.7       127      IFC        744000.0   \n",
       "4   Adventure,Comedy,Drama            7.3    275300      Fox      58200000.0   \n",
       "\n",
       "   foreign_gross  year  \n",
       "0            NaN  2016  \n",
       "1      8000000.0  2012  \n",
       "2      8000000.0  2012  \n",
       "3      8000000.0  2012  \n",
       "4    129900000.0  2013  "
      ]
     },
     "execution_count": 23,
     "metadata": {},
     "output_type": "execute_result"
    }
   ],
   "source": [
    "#data preview\n",
    "data.head()"
   ]
  },
  {
   "cell_type": "code",
   "execution_count": 24,
   "metadata": {},
   "outputs": [
    {
     "data": {
      "text/html": [
       "<div>\n",
       "<style scoped>\n",
       "    .dataframe tbody tr th:only-of-type {\n",
       "        vertical-align: middle;\n",
       "    }\n",
       "\n",
       "    .dataframe tbody tr th {\n",
       "        vertical-align: top;\n",
       "    }\n",
       "\n",
       "    .dataframe thead th {\n",
       "        text-align: right;\n",
       "    }\n",
       "</style>\n",
       "<table border=\"1\" class=\"dataframe\">\n",
       "  <thead>\n",
       "    <tr style=\"text-align: right;\">\n",
       "      <th></th>\n",
       "      <th>tconst</th>\n",
       "      <th>primary_title</th>\n",
       "      <th>original_title</th>\n",
       "      <th>start_year</th>\n",
       "      <th>runtime_minutes</th>\n",
       "      <th>genres</th>\n",
       "      <th>averagerating</th>\n",
       "      <th>numvotes</th>\n",
       "      <th>studio</th>\n",
       "      <th>domestic_gross</th>\n",
       "      <th>foreign_gross</th>\n",
       "      <th>year</th>\n",
       "    </tr>\n",
       "  </thead>\n",
       "  <tbody>\n",
       "    <tr>\n",
       "      <th>2442</th>\n",
       "      <td>tt8097306</td>\n",
       "      <td>Nobody's Fool</td>\n",
       "      <td>Nobody's Fool</td>\n",
       "      <td>2018</td>\n",
       "      <td>110.0</td>\n",
       "      <td>Comedy,Drama,Romance</td>\n",
       "      <td>4.6</td>\n",
       "      <td>3618</td>\n",
       "      <td>Par.</td>\n",
       "      <td>31700000.0</td>\n",
       "      <td>1800000.0</td>\n",
       "      <td>2018</td>\n",
       "    </tr>\n",
       "    <tr>\n",
       "      <th>2443</th>\n",
       "      <td>tt8108198</td>\n",
       "      <td>Andhadhun</td>\n",
       "      <td>Andhadhun</td>\n",
       "      <td>2018</td>\n",
       "      <td>139.0</td>\n",
       "      <td>Crime,Thriller</td>\n",
       "      <td>8.5</td>\n",
       "      <td>43409</td>\n",
       "      <td>Eros</td>\n",
       "      <td>1200000.0</td>\n",
       "      <td>NaN</td>\n",
       "      <td>2018</td>\n",
       "    </tr>\n",
       "    <tr>\n",
       "      <th>2444</th>\n",
       "      <td>tt8427036</td>\n",
       "      <td>Helicopter Eela</td>\n",
       "      <td>Helicopter Eela</td>\n",
       "      <td>2018</td>\n",
       "      <td>135.0</td>\n",
       "      <td>Drama</td>\n",
       "      <td>5.4</td>\n",
       "      <td>673</td>\n",
       "      <td>Eros</td>\n",
       "      <td>72000.0</td>\n",
       "      <td>NaN</td>\n",
       "      <td>2018</td>\n",
       "    </tr>\n",
       "    <tr>\n",
       "      <th>2445</th>\n",
       "      <td>tt8549902</td>\n",
       "      <td>Oolong Courtyard: KungFu School</td>\n",
       "      <td>Oolong Courtyard</td>\n",
       "      <td>2018</td>\n",
       "      <td>103.0</td>\n",
       "      <td>Comedy</td>\n",
       "      <td>4.6</td>\n",
       "      <td>61</td>\n",
       "      <td>CL</td>\n",
       "      <td>37700.0</td>\n",
       "      <td>NaN</td>\n",
       "      <td>2018</td>\n",
       "    </tr>\n",
       "    <tr>\n",
       "      <th>2446</th>\n",
       "      <td>tt9151704</td>\n",
       "      <td>Burn the Stage: The Movie</td>\n",
       "      <td>Burn the Stage: The Movie</td>\n",
       "      <td>2018</td>\n",
       "      <td>84.0</td>\n",
       "      <td>Documentary,Music</td>\n",
       "      <td>8.8</td>\n",
       "      <td>2067</td>\n",
       "      <td>Trafalgar</td>\n",
       "      <td>4200000.0</td>\n",
       "      <td>16100000.0</td>\n",
       "      <td>2018</td>\n",
       "    </tr>\n",
       "  </tbody>\n",
       "</table>\n",
       "</div>"
      ],
      "text/plain": [
       "         tconst                    primary_title             original_title  \\\n",
       "2442  tt8097306                    Nobody's Fool              Nobody's Fool   \n",
       "2443  tt8108198                        Andhadhun                  Andhadhun   \n",
       "2444  tt8427036                  Helicopter Eela            Helicopter Eela   \n",
       "2445  tt8549902  Oolong Courtyard: KungFu School           Oolong Courtyard   \n",
       "2446  tt9151704        Burn the Stage: The Movie  Burn the Stage: The Movie   \n",
       "\n",
       "      start_year  runtime_minutes                genres  averagerating  \\\n",
       "2442        2018            110.0  Comedy,Drama,Romance            4.6   \n",
       "2443        2018            139.0        Crime,Thriller            8.5   \n",
       "2444        2018            135.0                 Drama            5.4   \n",
       "2445        2018            103.0                Comedy            4.6   \n",
       "2446        2018             84.0     Documentary,Music            8.8   \n",
       "\n",
       "      numvotes     studio  domestic_gross  foreign_gross  year  \n",
       "2442      3618       Par.      31700000.0      1800000.0  2018  \n",
       "2443     43409       Eros       1200000.0            NaN  2018  \n",
       "2444       673       Eros         72000.0            NaN  2018  \n",
       "2445        61         CL         37700.0            NaN  2018  \n",
       "2446      2067  Trafalgar       4200000.0     16100000.0  2018  "
      ]
     },
     "execution_count": 24,
     "metadata": {},
     "output_type": "execute_result"
    }
   ],
   "source": [
    "data.tail()"
   ]
  },
  {
   "cell_type": "markdown",
   "metadata": {},
   "source": [
    "### Cleaning missing values in 'runtime_minutes' column"
   ]
  },
  {
   "cell_type": "code",
   "execution_count": 25,
   "metadata": {},
   "outputs": [
    {
     "data": {
      "text/plain": [
       "0"
      ]
     },
     "execution_count": 25,
     "metadata": {},
     "output_type": "execute_result"
    }
   ],
   "source": [
    "#Replace missing runtime_minutes with median \n",
    "data['runtime_minutes'].fillna(data['runtime_minutes'].median(), inplace=True)\n",
    "# check if the missing values have been replaced. Should return 0\n",
    "data['runtime_minutes'].isnull().sum()"
   ]
  },
  {
   "cell_type": "code",
   "execution_count": 26,
   "metadata": {},
   "outputs": [
    {
     "data": {
      "text/plain": [
       "0       False\n",
       "1       False\n",
       "2       False\n",
       "3       False\n",
       "4       False\n",
       "        ...  \n",
       "2442    False\n",
       "2443    False\n",
       "2444    False\n",
       "2445    False\n",
       "2446    False\n",
       "Name: runtime_minutes, Length: 2447, dtype: bool"
      ]
     },
     "execution_count": 26,
     "metadata": {},
     "output_type": "execute_result"
    }
   ],
   "source": [
    "data['runtime_minutes'].isnull()"
   ]
  },
  {
   "cell_type": "markdown",
   "metadata": {},
   "source": [
    "### Cleaning missing values in 'domestic_gross' column"
   ]
  },
  {
   "cell_type": "code",
   "execution_count": 27,
   "metadata": {},
   "outputs": [
    {
     "data": {
      "text/plain": [
       "0"
      ]
     },
     "execution_count": 27,
     "metadata": {},
     "output_type": "execute_result"
    }
   ],
   "source": [
    "#replace missing 'domestic_gross' values with median\n",
    "data['domestic_gross'].fillna(data['domestic_gross'].median(), inplace=True)\n",
    "#Check if missing values have been replaced, should return 0\n",
    "data['runtime_minutes'].isnull().sum()"
   ]
  },
  {
   "cell_type": "markdown",
   "metadata": {},
   "source": [
    "### Cleaning missing values in 'foreign_gross' column"
   ]
  },
  {
   "cell_type": "code",
   "execution_count": 28,
   "metadata": {},
   "outputs": [
    {
     "data": {
      "text/plain": [
       "0"
      ]
     },
     "execution_count": 28,
     "metadata": {},
     "output_type": "execute_result"
    }
   ],
   "source": [
    "#replace missing 'foreign_gross' values with median\n",
    "data['foreign_gross'].fillna(data['foreign_gross'].median(), inplace=True)\n",
    "#Check if missing values have been replaced, should return 0\n",
    "data['foreign_gross'].isnull().sum()"
   ]
  },
  {
   "cell_type": "markdown",
   "metadata": {},
   "source": [
    "### Cleaning missing values in 'genres' column"
   ]
  },
  {
   "cell_type": "code",
   "execution_count": 29,
   "metadata": {},
   "outputs": [
    {
     "data": {
      "text/plain": [
       "0"
      ]
     },
     "execution_count": 29,
     "metadata": {},
     "output_type": "execute_result"
    }
   ],
   "source": [
    "#replace missing 'genres' values with 'Unknown'\n",
    "data['genres'].fillna('Unknown', inplace=True)\n",
    "#Check if missing values have been replaced, should return 0\n",
    "data['genres'].isnull().sum()"
   ]
  },
  {
   "cell_type": "markdown",
   "metadata": {},
   "source": [
    "### Cleaning missing values in 'studio' column\n"
   ]
  },
  {
   "cell_type": "code",
   "execution_count": 30,
   "metadata": {},
   "outputs": [
    {
     "data": {
      "text/plain": [
       "0"
      ]
     },
     "execution_count": 30,
     "metadata": {},
     "output_type": "execute_result"
    }
   ],
   "source": [
    "#replace missing 'studio' values with 'Unknown'\n",
    "data['studio'].fillna('Unknown', inplace=True)\n",
    "#Check if missing values have been replaced, should return 0\n",
    "data['studio'].isnull().sum()"
   ]
  },
  {
   "cell_type": "markdown",
   "metadata": {},
   "source": [
    "## More on Data Cleaning"
   ]
  },
  {
   "cell_type": "code",
   "execution_count": 31,
   "metadata": {},
   "outputs": [
    {
     "data": {
      "text/plain": [
       "tconst             0.0\n",
       "primary_title      0.0\n",
       "original_title     0.0\n",
       "start_year         0.0\n",
       "runtime_minutes    0.0\n",
       "genres             0.0\n",
       "averagerating      0.0\n",
       "numvotes           0.0\n",
       "studio             0.0\n",
       "domestic_gross     0.0\n",
       "foreign_gross      0.0\n",
       "year               0.0\n",
       "dtype: float64"
      ]
     },
     "execution_count": 31,
     "metadata": {},
     "output_type": "execute_result"
    }
   ],
   "source": [
    "#check if there are duplicate rows\n",
    "duplicate_rows=data[data.duplicated()]\n",
    "duplicate_rows.sum()"
   ]
  },
  {
   "cell_type": "code",
   "execution_count": 32,
   "metadata": {},
   "outputs": [
    {
     "data": {
      "text/plain": [
       "False"
      ]
     },
     "execution_count": 32,
     "metadata": {},
     "output_type": "execute_result"
    }
   ],
   "source": [
    "data.duplicated().any() "
   ]
  },
  {
   "cell_type": "markdown",
   "metadata": {},
   "source": [
    "In the cell above we checked whether there were any duplicates and it returned false to mean we have no duplicates"
   ]
  },
  {
   "cell_type": "code",
   "execution_count": 33,
   "metadata": {},
   "outputs": [
    {
     "data": {
      "text/plain": [
       "(2447, 12)"
      ]
     },
     "execution_count": 33,
     "metadata": {},
     "output_type": "execute_result"
    }
   ],
   "source": [
    "data.shape"
   ]
  },
  {
   "cell_type": "markdown",
   "metadata": {},
   "source": [
    "## Exploratory Data Analysis"
   ]
  },
  {
   "cell_type": "code",
   "execution_count": 34,
   "metadata": {},
   "outputs": [
    {
     "data": {
      "text/plain": [
       "Index(['tconst', 'primary_title', 'original_title', 'start_year',\n",
       "       'runtime_minutes', 'genres', 'averagerating', 'numvotes', 'studio',\n",
       "       'domestic_gross', 'foreign_gross', 'year'],\n",
       "      dtype='object')"
      ]
     },
     "execution_count": 34,
     "metadata": {},
     "output_type": "execute_result"
    }
   ],
   "source": [
    "#preview of columns\n",
    "data.columns"
   ]
  },
  {
   "cell_type": "markdown",
   "metadata": {},
   "source": [
    "### Identifying the most popular movie genre in the data in terms frequency"
   ]
  },
  {
   "cell_type": "code",
   "execution_count": 35,
   "metadata": {},
   "outputs": [],
   "source": [
    "# define a variable that returns value counts of the genres\n",
    "def tot_movies(movie_data):\n",
    "    tot_movies= data['genres'].str.title().value_counts()\n",
    "    return tot_movies"
   ]
  },
  {
   "cell_type": "code",
   "execution_count": 36,
   "metadata": {},
   "outputs": [
    {
     "data": {
      "text/plain": [
       "Drama                         205\n",
       "Comedy,Drama,Romance          121\n",
       "Documentary                   101\n",
       "Comedy,Drama                   96\n",
       "Comedy                         76\n",
       "Drama,Romance                  72\n",
       "Adventure,Animation,Comedy     69\n",
       "Comedy,Romance                 60\n",
       "Drama,Thriller                 44\n",
       "Action,Adventure,Sci-Fi        44\n",
       "Name: genres, dtype: int64"
      ]
     },
     "execution_count": 36,
     "metadata": {},
     "output_type": "execute_result"
    }
   ],
   "source": [
    "#pass the data to the function and display the first 10\n",
    "tot_movies = tot_movies(data)\n",
    "tot_movies.head(10)"
   ]
  },
  {
   "cell_type": "markdown",
   "metadata": {},
   "source": [
    "We see that the most popular genre is Drama with a value count of 205. Now let as visualize it."
   ]
  },
  {
   "cell_type": "markdown",
   "metadata": {},
   "source": [
    "### Visualizing the most popular movie genre in terms frequency"
   ]
  },
  {
   "cell_type": "code",
   "execution_count": 37,
   "metadata": {},
   "outputs": [
    {
     "data": {
      "image/png": "[encoded data removed]",
      "text/plain": [
       "<Figure size 576x432 with 1 Axes>"
      ]
     },
     "metadata": {},
     "output_type": "display_data"
    }
   ],
   "source": [
    "# top 10 most popular movie genres\n",
    "top_10 = tot_movies.head(10)\n",
    "#set figsize\n",
    "plt.subplots(figsize=(8,6))\n",
    "plt.bar(top_10.index, top_10.values)\n",
    "#setting x, y labels and titles\n",
    "plt.xlabel('Genres')\n",
    "plt.ylabel('Frequency')\n",
    "plt.title('Bar graph of Top 10 popular Genres')\n",
    "#setting ticks\n",
    "plt.xticks(rotation=90, ha = 'right')\n",
    "plt.show()"
   ]
  },
  {
   "cell_type": "markdown",
   "metadata": {},
   "source": [
    "\n",
    "From the bar graph above we see that the most popular genre with the most frequency is Drama, followed by Comedy,Drama,Romance as the second and Documentary as the third."
   ]
  },
  {
   "cell_type": "markdown",
   "metadata": {},
   "source": [
    "## What is the averagerating distribution"
   ]
  },
  {
   "cell_type": "code",
   "execution_count": 38,
   "metadata": {},
   "outputs": [
    {
     "data": {
      "text/plain": [
       "6.3    116\n",
       "6.2    116\n",
       "6.6    112\n",
       "6.8    110\n",
       "6.4    109\n",
       "      ... \n",
       "2.1      1\n",
       "1.9      1\n",
       "3.1      1\n",
       "3.3      1\n",
       "9.1      1\n",
       "Name: averagerating, Length: 70, dtype: int64"
      ]
     },
     "execution_count": 38,
     "metadata": {},
     "output_type": "execute_result"
    }
   ],
   "source": [
    " data['averagerating'].value_counts()"
   ]
  },
  {
   "cell_type": "markdown",
   "metadata": {},
   "source": [
    "We will create a histogram to show the distribution of our average ratings"
   ]
  },
  {
   "cell_type": "code",
   "execution_count": 39,
   "metadata": {},
   "outputs": [
    {
     "data": {
      "image/png": "[encoded data removed]",
      "text/plain": [
       "<Figure size 576x432 with 1 Axes>"
      ]
     },
     "metadata": {},
     "output_type": "display_data"
    }
   ],
   "source": [
    "#create a variable 'rating' with our data\n",
    "rating= data['averagerating']\n",
    "#create histogram\n",
    "plt.subplots(figsize=(8,6))\n",
    "plt.hist(rating, bins=15, edgecolor='black')\n",
    "#set labels\n",
    "plt.xlabel('Average Rating')\n",
    "plt.ylabel('Frequency')\n",
    "plt.title('Distribution of Averagerating')\n",
    "plt.show()"
   ]
  },
  {
   "cell_type": "markdown",
   "metadata": {},
   "source": [
    "From the visualization above, we notice that the distribution is skewed to the right meaning that most films were highly rated and few have low ratings. This could mean that most viewers have a preference for highly rated movies."
   ]
  },
  {
   "cell_type": "markdown",
   "metadata": {},
   "source": [
    "### Identifying most popular genre based on Rating"
   ]
  },
  {
   "cell_type": "code",
   "execution_count": 40,
   "metadata": {},
   "outputs": [
    {
     "data": {
      "text/plain": [
       "genres\n",
       "Adventure                         9.2\n",
       "Action,Sport                      8.4\n",
       "Biography,Documentary,Family      8.3\n",
       "Adventure,Drama,Sci-Fi            8.3\n",
       "Fantasy                           8.2\n",
       "Comedy,Documentary,Drama          8.2\n",
       "Documentary,Sport                 8.2\n",
       "Biography,Documentary,Thriller    8.1\n",
       "Adventure,Animation,Drama         8.1\n",
       "Documentary,History,War           8.0\n",
       "Name: averagerating, dtype: float64"
      ]
     },
     "execution_count": 40,
     "metadata": {},
     "output_type": "execute_result"
    }
   ],
   "source": [
    "#group the data by genres and display its corresponding average ratings\n",
    "best_genre = data.groupby('genres')['averagerating'].mean().sort_values(ascending=False)\n",
    "best_genre.head(10)"
   ]
  },
  {
   "cell_type": "markdown",
   "metadata": {},
   "source": [
    "### Visualize using bar plots"
   ]
  },
  {
   "cell_type": "code",
   "execution_count": 41,
   "metadata": {},
   "outputs": [
    {
     "data": {
      "image/png": "[encoded data removed]",
      "text/plain": [
       "<Figure size 648x432 with 1 Axes>"
      ]
     },
     "metadata": {},
     "output_type": "display_data"
    }
   ],
   "source": [
    "# Create a bar plot that displays the first 10 genres with highest rating\n",
    "top = best_genre.head(10)\n",
    "plt.subplots(figsize=(9,6))\n",
    "plt.bar(x=top.index, height=top.values)\n",
    "#set x,y and title labels\n",
    "plt.xlabel('Genres')\n",
    "plt.ylabel('Mean averagerating')\n",
    "plt.title('Bar graph of Top 10 Genres by averagerating')\n",
    "plt.xticks(rotation=90, ha = 'right')\n",
    "plt.show()"
   ]
  },
  {
   "cell_type": "markdown",
   "metadata": {},
   "source": [
    "Based on Rating, the most popular genre is Adventure"
   ]
  },
  {
   "cell_type": "markdown",
   "metadata": {},
   "source": [
    "### Genre with Highest Domestic Gross(Most profitable locally)"
   ]
  },
  {
   "cell_type": "code",
   "execution_count": 42,
   "metadata": {},
   "outputs": [
    {
     "data": {
      "text/plain": [
       "genres\n",
       "Sci-Fi                     4.126000e+08\n",
       "Adventure,Drama,Sport      4.007000e+08\n",
       "Action,Adventure,Sci-Fi    2.258432e+08\n",
       "Adventure,Drama,Sci-Fi     2.082000e+08\n",
       "Documentary,Drama,Sport    2.067250e+08\n",
       "                               ...     \n",
       "Comedy,Crime,History       4.800000e+03\n",
       "Biography                  4.300000e+03\n",
       "Fantasy,Thriller           1.400000e+03\n",
       "Comedy,Thriller            8.000000e+02\n",
       "Animation,Drama            6.000000e+02\n",
       "Name: domestic_gross, Length: 294, dtype: float64"
      ]
     },
     "execution_count": 42,
     "metadata": {},
     "output_type": "execute_result"
    }
   ],
   "source": [
    "data.groupby('genres')['domestic_gross'].mean().sort_values(ascending=False)"
   ]
  },
  {
   "cell_type": "code",
   "execution_count": 43,
   "metadata": {},
   "outputs": [
    {
     "data": {
      "text/plain": [
       "genres\n",
       "Sci-Fi                      4.126000e+08\n",
       "Adventure,Drama,Sport       4.007000e+08\n",
       "Action,Adventure,Sci-Fi     2.258432e+08\n",
       "Adventure,Drama,Sci-Fi      2.082000e+08\n",
       "Documentary,Drama,Sport     2.067250e+08\n",
       "Adventure,Fantasy           1.929000e+08\n",
       "Biography,Drama,Musical     1.743000e+08\n",
       "Action,Adventure,Mystery    1.509000e+08\n",
       "Animation,Comedy,Family     1.458669e+08\n",
       "Comedy,Music                1.446000e+08\n",
       "Name: domestic_gross, dtype: float64"
      ]
     },
     "execution_count": 43,
     "metadata": {},
     "output_type": "execute_result"
    }
   ],
   "source": [
    "# create a variable that stores genres and domestic_gross and sort it in descending order\n",
    "most_popular = data.groupby('genres')['domestic_gross'].mean().sort_values(ascending=False)\n",
    "most_popular.head(10)\n"
   ]
  },
  {
   "cell_type": "markdown",
   "metadata": {},
   "source": [
    "From the above cell, we see that Sci-Fi has the highest revenue locally"
   ]
  },
  {
   "cell_type": "markdown",
   "metadata": {},
   "source": [
    "### Visualize using bar plot "
   ]
  },
  {
   "cell_type": "code",
   "execution_count": 44,
   "metadata": {},
   "outputs": [
    {
     "data": {
      "image/png": "[encoded data removed]",
      "text/plain": [
       "<Figure size 648x432 with 1 Axes>"
      ]
     },
     "metadata": {},
     "output_type": "display_data"
    }
   ],
   "source": [
    "# Create a bar plot that displays the first 10 genres with highest domestic gross\n",
    "top_10= most_popular.head(10)\n",
    "plt.subplots(figsize=(9,6))\n",
    "plt.bar(x=top_10.index, height=top_10.values)\n",
    "#set x,y and title labels\n",
    "plt.xlabel('Genres')\n",
    "plt.ylabel('Mean Domestic Gross')\n",
    "plt.title('Bar graph of Top 10 Genres by Mean Domestic Gross')\n",
    "plt.xticks(rotation=90, ha = 'right')\n",
    "plt.show()"
   ]
  },
  {
   "cell_type": "markdown",
   "metadata": {},
   "source": [
    "From the bar graph above we notice that Sci-Fi has the heighest domestic gross followed by Adventure,Drama,Sport Genre."
   ]
  },
  {
   "cell_type": "markdown",
   "metadata": {},
   "source": [
    "### Genre with the highest foreign gross(most profitable internationally)"
   ]
  },
  {
   "cell_type": "code",
   "execution_count": 45,
   "metadata": {},
   "outputs": [
    {
     "data": {
      "text/plain": [
       "genres\n",
       "Adventure,Drama,Sport        8.757000e+08\n",
       "Adventure,Fantasy            5.111333e+08\n",
       "Adventure,Drama,Sci-Fi       4.455500e+08\n",
       "Sci-Fi                       4.093000e+08\n",
       "Action,Adventure,Sci-Fi      3.441977e+08\n",
       "Action,Adventure,Thriller    2.806882e+08\n",
       "Action,Adventure,Fantasy     2.796138e+08\n",
       "Adventure,Mystery,Sci-Fi     2.769000e+08\n",
       "Adventure,Family,Fantasy     2.695500e+08\n",
       "Biography,Drama,Musical      2.607000e+08\n",
       "Name: foreign_gross, dtype: float64"
      ]
     },
     "execution_count": 45,
     "metadata": {},
     "output_type": "execute_result"
    }
   ],
   "source": [
    "# create a variable that stores genres and domestic_gross and sort it in descending order\n",
    "profitable_foreign = data.groupby('genres')['foreign_gross'].mean().sort_values(ascending=False)\n",
    "profitable_foreign.head(10)"
   ]
  },
  {
   "cell_type": "markdown",
   "metadata": {},
   "source": [
    "### Visualizing with bar garph"
   ]
  },
  {
   "cell_type": "code",
   "execution_count": 46,
   "metadata": {},
   "outputs": [
    {
     "data": {
      "image/png": "[encoded data removed]",
      "text/plain": [
       "<Figure size 648x432 with 1 Axes>"
      ]
     },
     "metadata": {},
     "output_type": "display_data"
    }
   ],
   "source": [
    "# Create a bar plot that displays the first 10 genres with highest foreign gross\n",
    "top_10_foreign= profitable_foreign.head(10)\n",
    "plt.subplots(figsize=(9,6))\n",
    "plt.bar(x=top_10_foreign.index, height=top_10_foreign.values)\n",
    "#set x,y and title labels\n",
    "plt.xlabel('Genres')\n",
    "plt.ylabel('Mean Foreign Gross')\n",
    "plt.title('Bar graph of Top 10 Genres by Mean Foreign Gross')\n",
    "plt.xticks(rotation=90, ha = 'right')\n",
    "plt.show()"
   ]
  },
  {
   "cell_type": "markdown",
   "metadata": {},
   "source": [
    "From the above we see that the genre with the most revenue internationally is a genre with Adventure,Drama,Sport followed by one with Adventure, Fantasy"
   ]
  },
  {
   "cell_type": "markdown",
   "metadata": {},
   "source": [
    "### Is there a relation between averagerating and number of votes, runtime and revenue, runtime and rating, runtime and number of votes"
   ]
  },
  {
   "cell_type": "code",
   "execution_count": 47,
   "metadata": {},
   "outputs": [
    {
     "data": {
      "text/html": [
       "<div>\n",
       "<style scoped>\n",
       "    .dataframe tbody tr th:only-of-type {\n",
       "        vertical-align: middle;\n",
       "    }\n",
       "\n",
       "    .dataframe tbody tr th {\n",
       "        vertical-align: top;\n",
       "    }\n",
       "\n",
       "    .dataframe thead th {\n",
       "        text-align: right;\n",
       "    }\n",
       "</style>\n",
       "<table border=\"1\" class=\"dataframe\">\n",
       "  <thead>\n",
       "    <tr style=\"text-align: right;\">\n",
       "      <th></th>\n",
       "      <th>tconst</th>\n",
       "      <th>primary_title</th>\n",
       "      <th>original_title</th>\n",
       "      <th>start_year</th>\n",
       "      <th>runtime_minutes</th>\n",
       "      <th>genres</th>\n",
       "      <th>averagerating</th>\n",
       "      <th>numvotes</th>\n",
       "      <th>studio</th>\n",
       "      <th>domestic_gross</th>\n",
       "      <th>foreign_gross</th>\n",
       "      <th>year</th>\n",
       "    </tr>\n",
       "  </thead>\n",
       "  <tbody>\n",
       "    <tr>\n",
       "      <th>0</th>\n",
       "      <td>tt0315642</td>\n",
       "      <td>Wazir</td>\n",
       "      <td>Wazir</td>\n",
       "      <td>2016</td>\n",
       "      <td>103.0</td>\n",
       "      <td>Action,Crime,Drama</td>\n",
       "      <td>7.1</td>\n",
       "      <td>15378</td>\n",
       "      <td>Relbig.</td>\n",
       "      <td>1100000.0</td>\n",
       "      <td>23400000.0</td>\n",
       "      <td>2016</td>\n",
       "    </tr>\n",
       "    <tr>\n",
       "      <th>1</th>\n",
       "      <td>tt0337692</td>\n",
       "      <td>On the Road</td>\n",
       "      <td>On the Road</td>\n",
       "      <td>2012</td>\n",
       "      <td>124.0</td>\n",
       "      <td>Adventure,Drama,Romance</td>\n",
       "      <td>6.1</td>\n",
       "      <td>37886</td>\n",
       "      <td>IFC</td>\n",
       "      <td>744000.0</td>\n",
       "      <td>8000000.0</td>\n",
       "      <td>2012</td>\n",
       "    </tr>\n",
       "    <tr>\n",
       "      <th>2</th>\n",
       "      <td>tt4339118</td>\n",
       "      <td>On the Road</td>\n",
       "      <td>On the Road</td>\n",
       "      <td>2014</td>\n",
       "      <td>89.0</td>\n",
       "      <td>Drama</td>\n",
       "      <td>6.0</td>\n",
       "      <td>6</td>\n",
       "      <td>IFC</td>\n",
       "      <td>744000.0</td>\n",
       "      <td>8000000.0</td>\n",
       "      <td>2012</td>\n",
       "    </tr>\n",
       "    <tr>\n",
       "      <th>3</th>\n",
       "      <td>tt5647250</td>\n",
       "      <td>On the Road</td>\n",
       "      <td>On the Road</td>\n",
       "      <td>2016</td>\n",
       "      <td>121.0</td>\n",
       "      <td>Drama</td>\n",
       "      <td>5.7</td>\n",
       "      <td>127</td>\n",
       "      <td>IFC</td>\n",
       "      <td>744000.0</td>\n",
       "      <td>8000000.0</td>\n",
       "      <td>2012</td>\n",
       "    </tr>\n",
       "    <tr>\n",
       "      <th>4</th>\n",
       "      <td>tt0359950</td>\n",
       "      <td>The Secret Life of Walter Mitty</td>\n",
       "      <td>The Secret Life of Walter Mitty</td>\n",
       "      <td>2013</td>\n",
       "      <td>114.0</td>\n",
       "      <td>Adventure,Comedy,Drama</td>\n",
       "      <td>7.3</td>\n",
       "      <td>275300</td>\n",
       "      <td>Fox</td>\n",
       "      <td>58200000.0</td>\n",
       "      <td>129900000.0</td>\n",
       "      <td>2013</td>\n",
       "    </tr>\n",
       "  </tbody>\n",
       "</table>\n",
       "</div>"
      ],
      "text/plain": [
       "      tconst                    primary_title  \\\n",
       "0  tt0315642                            Wazir   \n",
       "1  tt0337692                      On the Road   \n",
       "2  tt4339118                      On the Road   \n",
       "3  tt5647250                      On the Road   \n",
       "4  tt0359950  The Secret Life of Walter Mitty   \n",
       "\n",
       "                    original_title  start_year  runtime_minutes  \\\n",
       "0                            Wazir        2016            103.0   \n",
       "1                      On the Road        2012            124.0   \n",
       "2                      On the Road        2014             89.0   \n",
       "3                      On the Road        2016            121.0   \n",
       "4  The Secret Life of Walter Mitty        2013            114.0   \n",
       "\n",
       "                    genres  averagerating  numvotes   studio  domestic_gross  \\\n",
       "0       Action,Crime,Drama            7.1     15378  Relbig.       1100000.0   \n",
       "1  Adventure,Drama,Romance            6.1     37886      IFC        744000.0   \n",
       "2                    Drama            6.0         6      IFC        744000.0   \n",
       "3                    Drama            5.7       127      IFC        744000.0   \n",
       "4   Adventure,Comedy,Drama            7.3    275300      Fox      58200000.0   \n",
       "\n",
       "   foreign_gross  year  \n",
       "0     23400000.0  2016  \n",
       "1      8000000.0  2012  \n",
       "2      8000000.0  2012  \n",
       "3      8000000.0  2012  \n",
       "4    129900000.0  2013  "
      ]
     },
     "execution_count": 47,
     "metadata": {},
     "output_type": "execute_result"
    }
   ],
   "source": [
    "data.head()"
   ]
  },
  {
   "cell_type": "markdown",
   "metadata": {},
   "source": [
    "First we will select the columns we want to check their correlations"
   ]
  },
  {
   "cell_type": "code",
   "execution_count": 48,
   "metadata": {},
   "outputs": [
    {
     "data": {
      "text/html": [
       "<div>\n",
       "<style scoped>\n",
       "    .dataframe tbody tr th:only-of-type {\n",
       "        vertical-align: middle;\n",
       "    }\n",
       "\n",
       "    .dataframe tbody tr th {\n",
       "        vertical-align: top;\n",
       "    }\n",
       "\n",
       "    .dataframe thead th {\n",
       "        text-align: right;\n",
       "    }\n",
       "</style>\n",
       "<table border=\"1\" class=\"dataframe\">\n",
       "  <thead>\n",
       "    <tr style=\"text-align: right;\">\n",
       "      <th></th>\n",
       "      <th>domestic_gross</th>\n",
       "      <th>foreign_gross</th>\n",
       "      <th>averagerating</th>\n",
       "      <th>numvotes</th>\n",
       "      <th>runtime_minutes</th>\n",
       "    </tr>\n",
       "  </thead>\n",
       "  <tbody>\n",
       "    <tr>\n",
       "      <th>0</th>\n",
       "      <td>1100000.0</td>\n",
       "      <td>23400000.0</td>\n",
       "      <td>7.1</td>\n",
       "      <td>15378</td>\n",
       "      <td>103.0</td>\n",
       "    </tr>\n",
       "    <tr>\n",
       "      <th>1</th>\n",
       "      <td>744000.0</td>\n",
       "      <td>8000000.0</td>\n",
       "      <td>6.1</td>\n",
       "      <td>37886</td>\n",
       "      <td>124.0</td>\n",
       "    </tr>\n",
       "    <tr>\n",
       "      <th>2</th>\n",
       "      <td>744000.0</td>\n",
       "      <td>8000000.0</td>\n",
       "      <td>6.0</td>\n",
       "      <td>6</td>\n",
       "      <td>89.0</td>\n",
       "    </tr>\n",
       "    <tr>\n",
       "      <th>3</th>\n",
       "      <td>744000.0</td>\n",
       "      <td>8000000.0</td>\n",
       "      <td>5.7</td>\n",
       "      <td>127</td>\n",
       "      <td>121.0</td>\n",
       "    </tr>\n",
       "    <tr>\n",
       "      <th>4</th>\n",
       "      <td>58200000.0</td>\n",
       "      <td>129900000.0</td>\n",
       "      <td>7.3</td>\n",
       "      <td>275300</td>\n",
       "      <td>114.0</td>\n",
       "    </tr>\n",
       "    <tr>\n",
       "      <th>...</th>\n",
       "      <td>...</td>\n",
       "      <td>...</td>\n",
       "      <td>...</td>\n",
       "      <td>...</td>\n",
       "      <td>...</td>\n",
       "    </tr>\n",
       "    <tr>\n",
       "      <th>2442</th>\n",
       "      <td>31700000.0</td>\n",
       "      <td>1800000.0</td>\n",
       "      <td>4.6</td>\n",
       "      <td>3618</td>\n",
       "      <td>110.0</td>\n",
       "    </tr>\n",
       "    <tr>\n",
       "      <th>2443</th>\n",
       "      <td>1200000.0</td>\n",
       "      <td>23400000.0</td>\n",
       "      <td>8.5</td>\n",
       "      <td>43409</td>\n",
       "      <td>139.0</td>\n",
       "    </tr>\n",
       "    <tr>\n",
       "      <th>2444</th>\n",
       "      <td>72000.0</td>\n",
       "      <td>23400000.0</td>\n",
       "      <td>5.4</td>\n",
       "      <td>673</td>\n",
       "      <td>135.0</td>\n",
       "    </tr>\n",
       "    <tr>\n",
       "      <th>2445</th>\n",
       "      <td>37700.0</td>\n",
       "      <td>23400000.0</td>\n",
       "      <td>4.6</td>\n",
       "      <td>61</td>\n",
       "      <td>103.0</td>\n",
       "    </tr>\n",
       "    <tr>\n",
       "      <th>2446</th>\n",
       "      <td>4200000.0</td>\n",
       "      <td>16100000.0</td>\n",
       "      <td>8.8</td>\n",
       "      <td>2067</td>\n",
       "      <td>84.0</td>\n",
       "    </tr>\n",
       "  </tbody>\n",
       "</table>\n",
       "<p>2447 rows × 5 columns</p>\n",
       "</div>"
      ],
      "text/plain": [
       "      domestic_gross  foreign_gross  averagerating  numvotes  runtime_minutes\n",
       "0          1100000.0     23400000.0            7.1     15378            103.0\n",
       "1           744000.0      8000000.0            6.1     37886            124.0\n",
       "2           744000.0      8000000.0            6.0         6             89.0\n",
       "3           744000.0      8000000.0            5.7       127            121.0\n",
       "4         58200000.0    129900000.0            7.3    275300            114.0\n",
       "...              ...            ...            ...       ...              ...\n",
       "2442      31700000.0      1800000.0            4.6      3618            110.0\n",
       "2443       1200000.0     23400000.0            8.5     43409            139.0\n",
       "2444         72000.0     23400000.0            5.4       673            135.0\n",
       "2445         37700.0     23400000.0            4.6        61            103.0\n",
       "2446       4200000.0     16100000.0            8.8      2067             84.0\n",
       "\n",
       "[2447 rows x 5 columns]"
      ]
     },
     "execution_count": 48,
     "metadata": {},
     "output_type": "execute_result"
    }
   ],
   "source": [
    "# select columns and store them in corr_data variable and preview them\n",
    "corr_data = data[['domestic_gross', 'foreign_gross', 'averagerating', 'numvotes', 'runtime_minutes']]\n",
    "corr_data"
   ]
  },
  {
   "cell_type": "code",
   "execution_count": 49,
   "metadata": {},
   "outputs": [
    {
     "data": {
      "text/html": [
       "<div>\n",
       "<style scoped>\n",
       "    .dataframe tbody tr th:only-of-type {\n",
       "        vertical-align: middle;\n",
       "    }\n",
       "\n",
       "    .dataframe tbody tr th {\n",
       "        vertical-align: top;\n",
       "    }\n",
       "\n",
       "    .dataframe thead th {\n",
       "        text-align: right;\n",
       "    }\n",
       "</style>\n",
       "<table border=\"1\" class=\"dataframe\">\n",
       "  <thead>\n",
       "    <tr style=\"text-align: right;\">\n",
       "      <th></th>\n",
       "      <th>domestic_gross</th>\n",
       "      <th>foreign_gross</th>\n",
       "      <th>averagerating</th>\n",
       "      <th>numvotes</th>\n",
       "      <th>runtime_minutes</th>\n",
       "    </tr>\n",
       "  </thead>\n",
       "  <tbody>\n",
       "    <tr>\n",
       "      <th>domestic_gross</th>\n",
       "      <td>1.000000</td>\n",
       "      <td>0.824775</td>\n",
       "      <td>0.152556</td>\n",
       "      <td>0.654843</td>\n",
       "      <td>0.145883</td>\n",
       "    </tr>\n",
       "    <tr>\n",
       "      <th>foreign_gross</th>\n",
       "      <td>0.824775</td>\n",
       "      <td>1.000000</td>\n",
       "      <td>0.143412</td>\n",
       "      <td>0.596109</td>\n",
       "      <td>0.168842</td>\n",
       "    </tr>\n",
       "    <tr>\n",
       "      <th>averagerating</th>\n",
       "      <td>0.152556</td>\n",
       "      <td>0.143412</td>\n",
       "      <td>1.000000</td>\n",
       "      <td>0.313393</td>\n",
       "      <td>0.126887</td>\n",
       "    </tr>\n",
       "    <tr>\n",
       "      <th>numvotes</th>\n",
       "      <td>0.654843</td>\n",
       "      <td>0.596109</td>\n",
       "      <td>0.313393</td>\n",
       "      <td>1.000000</td>\n",
       "      <td>0.292399</td>\n",
       "    </tr>\n",
       "    <tr>\n",
       "      <th>runtime_minutes</th>\n",
       "      <td>0.145883</td>\n",
       "      <td>0.168842</td>\n",
       "      <td>0.126887</td>\n",
       "      <td>0.292399</td>\n",
       "      <td>1.000000</td>\n",
       "    </tr>\n",
       "  </tbody>\n",
       "</table>\n",
       "</div>"
      ],
      "text/plain": [
       "                 domestic_gross  foreign_gross  averagerating  numvotes  \\\n",
       "domestic_gross         1.000000       0.824775       0.152556  0.654843   \n",
       "foreign_gross          0.824775       1.000000       0.143412  0.596109   \n",
       "averagerating          0.152556       0.143412       1.000000  0.313393   \n",
       "numvotes               0.654843       0.596109       0.313393  1.000000   \n",
       "runtime_minutes        0.145883       0.168842       0.126887  0.292399   \n",
       "\n",
       "                 runtime_minutes  \n",
       "domestic_gross          0.145883  \n",
       "foreign_gross           0.168842  \n",
       "averagerating           0.126887  \n",
       "numvotes                0.292399  \n",
       "runtime_minutes         1.000000  "
      ]
     },
     "execution_count": 49,
     "metadata": {},
     "output_type": "execute_result"
    }
   ],
   "source": [
    "#check the correlations\n",
    "corr_data.corr()"
   ]
  },
  {
   "cell_type": "markdown",
   "metadata": {},
   "source": [
    "#### Visualize the correlations using correlation matrix heatmap"
   ]
  },
  {
   "cell_type": "code",
   "execution_count": 50,
   "metadata": {},
   "outputs": [
    {
     "data": {
      "image/png": "[encoded data removed]",
      "text/plain": [
       "<Figure size 720x432 with 2 Axes>"
      ]
     },
     "metadata": {},
     "output_type": "display_data"
    }
   ],
   "source": [
    "# store selected_data.corr() in the variable(correlation)\n",
    "correlation = corr_data.corr()\n",
    "#create correlation matrix heat map\n",
    "# Set the figure size\n",
    "plt.subplots(figsize=(10, 6))\n",
    "sns.heatmap(correlation, annot=True, fmt=\"0.2f\", cmap=\"coolwarm\", linewidths=0.3)\n",
    "#Set title\n",
    "plt.title(\"Correlation Matrix plot\") \n",
    "plt.show()"
   ]
  },
  {
   "cell_type": "markdown",
   "metadata": {},
   "source": [
    "With a correlation above 0.7 being a strong positive correlation and 0.50 to 0.70 being average positive correlation, and 0.30 and below being weak positive correlation. From the heatmap plot above, we see that averagerating and number of votes have close to weak correlation, runtime and both foreign and domestic revenue have a weak correlation, runtime and rating have weak correlation, runtime and number of votes have weak correlation."
   ]
  },
  {
   "cell_type": "markdown",
   "metadata": {},
   "source": [
    "## Conclusion"
   ]
  },
  {
   "cell_type": "markdown",
   "metadata": {},
   "source": [
    "Based on our analysis,\n",
    "Sci-Fi has the highest revenue in the domestic market .A film with (Adventure, Drama, Sport) does well in the foreign market since it had the highest revenue. Adventure is the highly rated genre, meaning it is the most liked in both domestic and foreign market. Rating has close to no effect on revenue(both domestic and foreign) since there was a weak correlation between them. Measuring success in terms of revenue, runtime has close to no effect on movie success since the correlation between them was weak."
   ]
  },
  {
   "cell_type": "markdown",
   "metadata": {},
   "source": [
    "### Recommendations\n",
    "From the analysis the recommendations are:\n",
    "\n",
    "**For the domestic audience** : Focus more on producing Sci-Fi since that is what yields the highest revenue in the domestic market.\n",
    "\n",
    " **For the foreign audience** : Focus more on producing a film with the genre combination of Adventure, Drama and Sport since that is what yields the highest revenue in the domestic market.\n",
    " \n",
    " **Based on what is most liked by the two markets**: Focus on producing more Adventure themed films.\n",
    " \n",
    " **Runtime has little impact on success in terms of revenue**: You are therefore have the flexibility of choosing the length of your filmns. You can focus on compelling story regardless of runtime"
   ]
  }
 ],
 "metadata": {
  "kernelspec": {
   "display_name": "Python 3",
   "language": "python",
   "name": "python3"
  },
  "language_info": {
   "codemirror_mode": {
    "name": "ipython",
    "version": 3
   },
   "file_extension": ".py",
   "mimetype": "text/x-python",
   "name": "python",
   "nbconvert_exporter": "python",
   "pygments_lexer": "ipython3",
   "version": "3.8.5"
  }
 },
 "nbformat": 4,
 "nbformat_minor": 2
}
